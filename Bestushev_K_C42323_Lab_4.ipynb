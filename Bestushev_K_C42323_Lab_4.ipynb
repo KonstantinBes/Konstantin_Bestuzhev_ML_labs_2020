{
 "cells": [
  {
   "cell_type": "code",
   "execution_count": 1,
   "metadata": {},
   "outputs": [
    {
     "data": {
      "text/plain": [
       "\"\\nML lab No1\\nHomework on Machine Learning Technologies.\\nImplementing of stochastic gradient descent\\nand Adam's optimization algorithms using numpy library.\\n\""
      ]
     },
     "execution_count": 1,
     "metadata": {},
     "output_type": "execute_result"
    }
   ],
   "source": [
    "\"\"\"\n",
    "ML lab No4, Bestushev Konstantin C42323.\n",
    "NLP.\n",
    "\"\"\""
   ]
  },
  {
   "cell_type": "markdown",
   "metadata": {},
   "source": [
    "Task:\n",
    "1.\tDownload Alice in Wonderland by Lewis Carroll from Project Gutenberg's website http://www.gutenberg.org/files/11/11-0.txt\n",
    "2.\tPerform any necessary preprocessing on the text, including converting to lower case, removing stop words, numbers / non-alphabetic characters, and more.\n",
    "3.\tFind the Top 10 most important (for example, in terms of TF-IDF metric) words from each chapter in the text (not \"Alice\"); how would you name each chapter according to the identified tokens?\n",
    "4.\tFind the Top 10 most used verbs in sentences with Alice. What does Alice do most often?\n",
    "5.\t*Find the Top 100 most used verbs in sentences with Alice. Get word vectors using a pre-trained word2vec model and vizualise them. Compare the words using embeddings. Write conclusions."
   ]
  },
  {
   "cell_type": "code",
   "execution_count": 1,
   "metadata": {},
   "outputs": [],
   "source": [
    "import nltk\n",
    "# nltk.download('popular')\n",
    "import re\n",
    "import json\n",
    "import numpy as np\n",
    "import collections\n",
    "import gensim\n",
    "\n",
    "from urllib.request import urlopen\n",
    "from urllib.error import HTTPError\n",
    "from bs4 import BeautifulSoup\n",
    "from nltk.stem import WordNetLemmatizer\n",
    "from nltk.corpus import stopwords\n",
    "from sklearn.feature_extraction.text import TfidfVectorizer\n",
    "from sklearn.manifold import TSNE\n",
    "from plotly import express\n",
    "\n",
    "\n",
    "dir = \"D:/Work/Data_files/working_dir/\"\n",
    "url_Alise = \"http://www.gutenberg.org/files/11/11-0.txt\""
   ]
  },
  {
   "cell_type": "code",
   "execution_count": 2,
   "metadata": {},
   "outputs": [],
   "source": [
    "def get_data(url):\n",
    "    try:\n",
    "        html = urlopen(url)\n",
    "    except HTTPError:\n",
    "        return HTTPError\n",
    "    try:\n",
    "        data = BeautifulSoup(html, \"html.parser\")\n",
    "    except AttributeError:\n",
    "        return AttributeError\n",
    "    return data\n",
    "\n",
    "def get_slice(data, start, end):\n",
    "    data = data.get_text()\n",
    "    text = re.search('{}(.*){}'.format(start, end),\n",
    "                     data, re.S).group(1)\n",
    "    return(text)"
   ]
  },
  {
   "cell_type": "code",
   "execution_count": 3,
   "metadata": {},
   "outputs": [],
   "source": [
    "# 1. Download Alice in Wonderland by Lewis Carroll\n",
    "with open(dir + \"Alice.txt\", 'w',\n",
    "          encoding = 'utf-8') as out_file:\n",
    "    start = re.escape(\"*** START OF THIS PROJECT GUTENBERG EBOOK\")\n",
    "    end = re.escape(\"*** END OF THIS PROJECT GUTENBERG EBOOK\")\n",
    "    raw_data = get_data(url_Alise)\n",
    "    book = get_slice(raw_data, start, end)\n",
    "    out_file.write(book)"
   ]
  },
  {
   "cell_type": "code",
   "execution_count": 4,
   "metadata": {},
   "outputs": [],
   "source": [
    "# 2. Perform any necessary preprocessing on the text\n",
    "\n",
    "lemmatizer = WordNetLemmatizer()\n",
    "stop_words = stopwords.words('english')\n",
    "\n",
    "with open(dir + \"Alice.txt\", 'r',\n",
    "          encoding=\"utf8\") as in_file,\\\n",
    "    open(dir + \"Alice_preprocessed.json\", 'w',\n",
    "         encoding = \"utf-8\") as out_file:\n",
    "    \n",
    "    Alice_preprocessed = {}\n",
    "    text = in_file.read()\n",
    "    \n",
    "    # actual book starts after contents\n",
    "    contents_end = 'CHAPTER XII.   Alice’s Evidence'\n",
    "    start = text.find(contents_end) + len(contents_end)\n",
    "    \n",
    "    # divide to chapters and sentences\n",
    "    chapter_num = 1\n",
    "    min_chapter_len = 100\n",
    "    min_sentence_len = 10\n",
    "    for chapter in text[start:].split('CHAPTER'):\n",
    "        if len(chapter) > min_chapter_len:\n",
    "            sentences = []\n",
    "            for sentence in re.split('[.!?]', chapter):\n",
    "                if len(sentence) > min_sentence_len:\n",
    "                    \n",
    "                    # clean and format words\n",
    "                    words = \"\"\n",
    "                    for word in sentence.split():\n",
    "                        word = re.sub(r'[^A-Za-z]', '', word)\n",
    "                        word = word.lower()\n",
    "                        word = lemmatizer.lemmatize(word)\n",
    "                        if word in stop_words:\n",
    "                             word = ''\n",
    "                        if word:    # not empty after cleaning\n",
    "                            words = words + \" \" + word\n",
    "                    if words:\n",
    "                        sentences.append(words)\n",
    "                        \n",
    "            Alice_preprocessed[chapter_num] = sentences\n",
    "            chapter_num += 1\n",
    "            \n",
    "    #print(Alice_preprocessed)\n",
    "    json.dump(Alice_preprocessed, out_file)"
   ]
  },
  {
   "cell_type": "code",
   "execution_count": 5,
   "metadata": {},
   "outputs": [
    {
     "name": "stdout",
     "output_type": "stream",
     "text": [
      "1\n",
      "wa little bat door key eat like think way either \n",
      "2\n",
      "wa mouse pool little im swam cat dear said foot \n",
      "3\n",
      "mouse said dodo wa lory prize dry thimble know bird \n",
      "4\n",
      "wa bill little window rabbit puppy bottle chimney fan glove \n",
      "5\n",
      "caterpillar said pigeon serpent wa im egg youth size father \n",
      "6\n",
      "said cat wa footman baby mad duchess pig like cook \n",
      "7\n",
      "hatter dormouse said hare march wa twinkle time tea draw \n",
      "8\n",
      "queen said wa hedgehog king gardener soldier cat five executioner \n",
      "9\n",
      "turtle said mock gryphon duchess moral wa queen went say \n",
      "10\n",
      "turtle mock gryphon said lobster dance beautiful soup join whiting \n",
      "11\n",
      "king hatter said court dormouse wa witness queen juror officer \n",
      "12\n",
      "said king jury queen sister dream would slate wa rabbit \n"
     ]
    }
   ],
   "source": [
    "# 3.1 Find the Top 10 most important words\n",
    "#     from each chapter in the text\n",
    "\n",
    "vectorizer = TfidfVectorizer()\n",
    "\n",
    "with open(dir + \"Alice_preprocessed.json\", 'r',\n",
    "          encoding = \"utf-8\") as in_file:\n",
    "    data = json.load(in_file)\n",
    "    \n",
    "    # fit vectorizer\n",
    "    text_by_chapters = []\n",
    "    for chapter in data:\n",
    "        chapter_content = \"\"\n",
    "        for sentence in data[chapter]:\n",
    "            chapter_content += sentence\n",
    "        text_by_chapters.append(chapter_content)\n",
    "    transformed = vectorizer.fit_transform(text_by_chapters)\n",
    "    \n",
    "    # create list of indexed word for each chapter\n",
    "    index_value = {i[1]: i[0] for i in vectorizer.vocabulary_.items()}\n",
    "    words_indexed = []\n",
    "    transformed = np.array(transformed.todense())\n",
    "    for row in transformed:\n",
    "        words_indexed.append(\n",
    "            {index_value[column]: value for (column,value) in enumerate(row)})\n",
    "        \n",
    "    # show N most important words per chapter\n",
    "    N_top = 10\n",
    "    to_remove = ['alice']\n",
    "    chapter_num = 1\n",
    "    most_important = {}\n",
    "    for chapter in words_indexed:\n",
    "        sorted_words = sorted(chapter.items(),\n",
    "                              key=lambda kv: kv[1],\n",
    "                              reverse = True)\n",
    "        for word in to_remove:\n",
    "            for word_value_pair in sorted_words[0:N_top]:\n",
    "                if word == word_value_pair[0]:\n",
    "                    sorted_words.remove(word_value_pair)\n",
    "        most_important[chapter_num] = sorted_words[0:N_top]\n",
    "        chapter_num += 1\n",
    "    for chapter in most_important:\n",
    "        print(chapter)\n",
    "        for word_value_pair in most_important[chapter]:\n",
    "            print(word_value_pair[0], end = ' ')\n",
    "        print()"
   ]
  },
  {
   "cell_type": "markdown",
   "metadata": {},
   "source": [
    "3.2 How would you name each chapter according to the identified tokens?\n",
    "\n",
    "1. Little door. \n",
    "2. Cat and mouse. \n",
    "3. Mouse prize. \n",
    "4. Window to rabbit in gloves. \n",
    "5. Caterpillar and pigeon. \n",
    "6. Mad Duchess. \n",
    "7. Tea time! \n",
    "8. Queen, King and executioner.\n",
    "9. Queen mock duchess. \n",
    "10. Beautiful soup. #-же!\n",
    "11. Hatter`s witness. \n",
    "12. End of dream. "
   ]
  },
  {
   "cell_type": "code",
   "execution_count": 3,
   "metadata": {},
   "outputs": [
    {
     "name": "stdout",
     "output_type": "stream",
     "text": [
      "[('was', 136), ('go', 12), ('get', 10), ('see', 8), ('tell', 7), ('come', 6), ('take', 5), ('think', 5), ('find', 5), ('keep', 5)]\n"
     ]
    }
   ],
   "source": [
    "# 4.1 Find the Top 10 most used verbs in sentences with Alice.\n",
    "\n",
    "with open(dir + \"Alice_preprocessed.json\", 'r',\n",
    "          encoding = \"utf-8\") as in_file:\n",
    "    data = json.load(in_file)\n",
    "    \n",
    "    # count verbs in sentences where 'alice' is present\n",
    "    verbs = collections.Counter()\n",
    "    for chapter in data:\n",
    "        for sentence in data[chapter]:\n",
    "            if 'alice' in sentence:\n",
    "                tokens = nltk.word_tokenize(sentence)\n",
    "                tagged = nltk.pos_tag(tokens)\n",
    "                for tag_word in tagged:\n",
    "                    if(tag_word[1] == 'VB'):\n",
    "                        verbs[tag_word[0]] += 1\n",
    "                    # consider 'wa' - lemmatized was\n",
    "                    elif(tag_word[0] == 'wa'):\n",
    "                        verbs['was'] += 1\n",
    "    print(verbs.most_common(10))\n"
   ]
  },
  {
   "cell_type": "markdown",
   "metadata": {},
   "source": [
    "4.2 What does Alice do most often?\n",
    "Probably she GOES through dream affected by subconsciousness reaction to sisters book. She SEES and GETS different things, TALKS with different creatures, THINKS about and FINDS conclusions."
   ]
  },
  {
   "cell_type": "code",
   "execution_count": 4,
   "metadata": {},
   "outputs": [
    {
     "name": "stdout",
     "output_type": "stream",
     "text": [
      "14 ['was', 'go', 'get', 'see', 'tell', 'come', 'take', 'think', 'find', 'keep', 'know', 'dinning', 'have', 'turn']\n"
     ]
    }
   ],
   "source": [
    "# 5.1 Find the Top 100 most used verbs \n",
    "#     in sentences with Alice\n",
    "\n",
    "most_used_verbs = []\n",
    "for word in verbs.most_common(10):\n",
    "    most_used_verbs.append(word[0])\n",
    "    \n",
    "not_verbs = ['glove', 'thousand', 'little', 'wise', 'mabel',\n",
    "             'existence', 'dinah', 'hungry', 'knowand',\n",
    "             'mushroom', 'neck', 'advantage', 'child', 'turnup',\n",
    "             'dormouse', 'hasnt', 'quite', 'tart', 'wonderful']\n",
    "misspelled = ['know', 'dinning', 'have', 'turn']\n",
    "\n",
    "#manual cleaning\n",
    "for verb in misspelled:\n",
    "    if verb not in most_used_verbs:\n",
    "        most_used_verbs.append(verb)\n",
    "for word in not_verbs:\n",
    "    if word in most_used_verbs:\n",
    "        most_used_verbs.remove(word)\n",
    "        \n",
    "print(len(most_used_verbs), most_used_verbs)"
   ]
  },
  {
   "cell_type": "code",
   "execution_count": 13,
   "metadata": {},
   "outputs": [],
   "source": [
    "# 5.2 Get word vectors using a pre-trained word2vec model\n",
    "#    and vizualise them. Compare the words using embeddings.\n",
    "\n",
    "# load pre-trained model\n",
    "model = gensim.models.KeyedVectors.load_word2vec_format(\n",
    "    dir + 'GoogleNews-vectors-negative300.bin', binary=True)\n"
   ]
  },
  {
   "cell_type": "code",
   "execution_count": 21,
   "metadata": {},
   "outputs": [],
   "source": [
    "# find similar words for each of verbs\n",
    "embeddings = []\n",
    "words = []\n",
    "clusters = []\n",
    "for verb in most_used_verbs:\n",
    "    for similar_word in model.most_similar(verb, topn=10):\n",
    "        words.append(similar_word[0])\n",
    "        embeddings.append(model[similar_word[0]])\n",
    "        clusters.append(verb)\n",
    "\n",
    "# reduct dimentionality for visualization        \n",
    "tsne = TSNE(perplexity=15, n_components=2, init='pca',\n",
    "            n_iter=3500, random_state=32)\n",
    "embeddings = tsne.fit_transform(embeddings)"
   ]
  },
  {
   "cell_type": "code",
   "execution_count": 38,
   "metadata": {},
   "outputs": [
    {
     "data": {
      "application/vnd.plotly.v1+json": {
       "config": {
        "plotlyServerURL": "https://plot.ly"
       },
       "data": [
        {
         "hovertemplate": "color=was<br>x=%{x}<br>y=%{y}<extra></extra>",
         "legendgroup": "was",
         "marker": {
          "color": "#636efa",
          "symbol": "circle"
         },
         "mode": "markers",
         "name": "was",
         "orientation": "v",
         "showlegend": true,
         "textposition": "top center",
         "type": "scatter",
         "x": [
          -17.90746307373047,
          -25.602977752685547,
          -17.73013687133789,
          -13.594075202941895,
          -25.167438507080078,
          -27.924488067626953,
          -22.186349868774414,
          -17.093997955322266,
          -25.334712982177734,
          -42.915802001953125
         ],
         "xaxis": "x",
         "y": [
          -7.5258612632751465,
          -14.384309768676758,
          -9.440831184387207,
          -56.32487869262695,
          12.082770347595215,
          -11.996901512145996,
          -44.99905776977539,
          -58.90544509887695,
          -9.30112361907959,
          13.667988777160645
         ],
         "yaxis": "y"
        },
        {
         "hovertemplate": "color=go<br>x=%{x}<br>y=%{y}<extra></extra>",
         "legendgroup": "go",
         "marker": {
          "color": "#EF553B",
          "symbol": "circle"
         },
         "mode": "markers",
         "name": "go",
         "orientation": "v",
         "showlegend": true,
         "textposition": "top center",
         "type": "scatter",
         "x": [
          -45.84673309326172,
          -45.582576751708984,
          -38.11759567260742,
          -9.999077796936035,
          -45.78805160522461,
          -41.14411163330078,
          -4.7740373611450195,
          -19.606338500976562,
          -67.3687515258789,
          -39.96864700317383
         ],
         "xaxis": "x",
         "y": [
          7.679464817047119,
          2.7742421627044678,
          9.909479141235352,
          -28.597646713256836,
          -8.608717918395996,
          12.470593452453613,
          -28.678403854370117,
          -26.868785858154297,
          -3.889061450958252,
          4.4640092849731445
         ],
         "yaxis": "y"
        },
        {
         "hovertemplate": "color=get<br>x=%{x}<br>y=%{y}<extra></extra>",
         "legendgroup": "get",
         "marker": {
          "color": "#00cc96",
          "symbol": "circle"
         },
         "mode": "markers",
         "name": "get",
         "orientation": "v",
         "showlegend": true,
         "textposition": "top center",
         "type": "scatter",
         "x": [
          -45.5523796081543,
          -49.2346305847168,
          -48.129032135009766,
          -50.76305389404297,
          -43.41421127319336,
          -41.11964797973633,
          -45.73222351074219,
          -46.540157318115234,
          -44.5284309387207,
          -42.58086395263672
         ],
         "xaxis": "x",
         "y": [
          -6.597734451293945,
          -8.327369689941406,
          -5.098011493682861,
          -9.420206069946289,
          -7.184227466583252,
          2.1256964206695557,
          9.080317497253418,
          39.452919006347656,
          23.159194946289062,
          -11.400087356567383
         ],
         "yaxis": "y"
        },
        {
         "hovertemplate": "color=see<br>x=%{x}<br>y=%{y}<extra></extra>",
         "legendgroup": "see",
         "marker": {
          "color": "#ab63fa",
          "symbol": "circle"
         },
         "mode": "markers",
         "name": "see",
         "orientation": "v",
         "showlegend": true,
         "textposition": "top center",
         "type": "scatter",
         "x": [
          -10.202333450317383,
          -18.024778366088867,
          4.062082290649414,
          -8.585284233093262,
          18.06745719909668,
          -37.76557540893555,
          -8.835066795349121,
          -4.367918014526367,
          -4.84650993347168,
          8.416015625
         ],
         "xaxis": "x",
         "y": [
          -43.132423400878906,
          -39.51530075073242,
          -53.64090347290039,
          -59.346458435058594,
          -49.47444534301758,
          -30.807435989379883,
          -38.56638717651367,
          -37.15361022949219,
          -44.643959045410156,
          -55.26531219482422
         ],
         "yaxis": "y"
        },
        {
         "hovertemplate": "color=tell<br>x=%{x}<br>y=%{y}<extra></extra>",
         "legendgroup": "tell",
         "marker": {
          "color": "#FFA15A",
          "symbol": "circle"
         },
         "mode": "markers",
         "name": "tell",
         "orientation": "v",
         "showlegend": true,
         "textposition": "top center",
         "type": "scatter",
         "x": [
          4.2995076179504395,
          22.51390266418457,
          19.547809600830078,
          19.21078109741211,
          16.032060623168945,
          8.341181755065918,
          22.69532012939453,
          -6.886610984802246,
          28.696680068969727,
          11.880864143371582
         ],
         "xaxis": "x",
         "y": [
          -50.817466735839844,
          -49.86909103393555,
          -53.287818908691406,
          -28.868520736694336,
          -48.04090118408203,
          -69.27647399902344,
          -47.45363998413086,
          -41.64894104003906,
          -51.994361877441406,
          -52.601444244384766
         ],
         "yaxis": "y"
        },
        {
         "hovertemplate": "color=come<br>x=%{x}<br>y=%{y}<extra></extra>",
         "legendgroup": "come",
         "marker": {
          "color": "#19d3f3",
          "symbol": "circle"
         },
         "mode": "markers",
         "name": "come",
         "orientation": "v",
         "showlegend": true,
         "textposition": "top center",
         "type": "scatter",
         "x": [
          -43.79149627685547,
          -42.32823181152344,
          -43.85588836669922,
          -43.290985107421875,
          -47.014549255371094,
          -46.003395080566406,
          -37.84726333618164,
          0.34029874205589294,
          -53.662437438964844,
          -46.784400939941406
         ],
         "xaxis": "x",
         "y": [
          8.149600982666016,
          1.856052041053772,
          22.05401039123535,
          12.944771766662598,
          -8.081366539001465,
          17.20052146911621,
          10.62608528137207,
          -24.819881439208984,
          15.482418060302734,
          3.618351697921753
         ],
         "yaxis": "y"
        },
        {
         "hovertemplate": "color=take<br>x=%{x}<br>y=%{y}<extra></extra>",
         "legendgroup": "take",
         "marker": {
          "color": "#FF6692",
          "symbol": "circle"
         },
         "mode": "markers",
         "name": "take",
         "orientation": "v",
         "showlegend": true,
         "textposition": "top center",
         "type": "scatter",
         "x": [
          -56.08928680419922,
          -54.47306442260742,
          -55.894256591796875,
          -55.285343170166016,
          -58.68838882446289,
          -45.42475509643555,
          -60.01573181152344,
          -5.726337432861328,
          -41.99625015258789,
          -59.32237243652344
         ],
         "xaxis": "x",
         "y": [
          28.347414016723633,
          27.589757919311523,
          25.095375061035156,
          29.753307342529297,
          28.392271041870117,
          39.29874038696289,
          27.734607696533203,
          9.545700073242188,
          3.0042428970336914,
          34.4677619934082
         ],
         "yaxis": "y"
        },
        {
         "hovertemplate": "color=think<br>x=%{x}<br>y=%{y}<extra></extra>",
         "legendgroup": "think",
         "marker": {
          "color": "#B6E880",
          "symbol": "circle"
         },
         "mode": "markers",
         "name": "think",
         "orientation": "v",
         "showlegend": true,
         "textposition": "top center",
         "type": "scatter",
         "x": [
          6.666835308074951,
          -5.213647842407227,
          -7.432724952697754,
          -17.406095504760742,
          -10.918583869934082,
          -16.932008743286133,
          -11.163558959960938,
          -12.053794860839844,
          3.3775641918182373,
          -13.786603927612305
         ],
         "xaxis": "x",
         "y": [
          -52.96033477783203,
          -53.599884033203125,
          -54.27254867553711,
          -65.70308685302734,
          -57.30680847167969,
          -62.703041076660156,
          -51.88933181762695,
          -53.64691162109375,
          -65.65255737304688,
          -63.24470901489258
         ],
         "yaxis": "y"
        },
        {
         "hovertemplate": "color=find<br>x=%{x}<br>y=%{y}<extra></extra>",
         "legendgroup": "find",
         "marker": {
          "color": "#FF97FF",
          "symbol": "circle"
         },
         "mode": "markers",
         "name": "find",
         "orientation": "v",
         "showlegend": true,
         "textposition": "top center",
         "type": "scatter",
         "x": [
          -37.550228118896484,
          -40.857398986816406,
          -40.1097412109375,
          -44.820377349853516,
          -33.520790100097656,
          -34.851932525634766,
          -36.350006103515625,
          -36.91722869873047,
          -8.054445266723633,
          -40.9754638671875
         ],
         "xaxis": "x",
         "y": [
          -34.02590560913086,
          -27.68785285949707,
          -25.552127838134766,
          -33.24883270263672,
          -25.052858352661133,
          -31.306930541992188,
          -28.568161010742188,
          -35.30771255493164,
          -42.24303436279297,
          -36.27392578125
         ],
         "yaxis": "y"
        },
        {
         "hovertemplate": "color=keep<br>x=%{x}<br>y=%{y}<extra></extra>",
         "legendgroup": "keep",
         "marker": {
          "color": "#FECB52",
          "symbol": "circle"
         },
         "mode": "markers",
         "name": "keep",
         "orientation": "v",
         "showlegend": true,
         "textposition": "top center",
         "type": "scatter",
         "x": [
          -72.6050796508789,
          -72.2593002319336,
          -75.4413833618164,
          -67.3687515258789,
          -74.99462890625,
          -78.22891235351562,
          -68.91561126708984,
          -81.02143096923828,
          -66.95217895507812,
          -2.655533790588379
         ],
         "xaxis": "x",
         "y": [
          -0.6560267210006714,
          2.0428009033203125,
          -1.8937369585037231,
          -3.889061450958252,
          4.491377353668213,
          7.558300018310547,
          12.488381385803223,
          0.9306395649909973,
          -7.452489852905273,
          8.328873634338379
         ],
         "yaxis": "y"
        },
        {
         "hovertemplate": "color=happen<br>x=%{x}<br>y=%{y}<extra></extra>",
         "legendgroup": "happen",
         "marker": {
          "color": "#636efa",
          "symbol": "circle"
         },
         "mode": "markers",
         "name": "happen",
         "orientation": "v",
         "showlegend": true,
         "textposition": "top center",
         "type": "scatter",
         "x": [
          -0.28782662749290466,
          0.1584533303976059,
          2.539095878601074,
          2.97173810005188,
          13.620360374450684,
          -4.992349624633789,
          5.14644193649292,
          5.547396659851074,
          12.609292030334473,
          -47.04325866699219
         ],
         "xaxis": "x",
         "y": [
          -25.791574478149414,
          -22.899965286254883,
          -26.712182998657227,
          -25.628341674804688,
          -4.7452192306518555,
          -30.49695587158203,
          -2.6143627166748047,
          1.1165258884429932,
          -3.364614486694336,
          9.190515518188477
         ],
         "yaxis": "y"
        },
        {
         "hovertemplate": "color=hear<br>x=%{x}<br>y=%{y}<extra></extra>",
         "legendgroup": "hear",
         "marker": {
          "color": "#EF553B",
          "symbol": "circle"
         },
         "mode": "markers",
         "name": "hear",
         "orientation": "v",
         "showlegend": true,
         "textposition": "top center",
         "type": "scatter",
         "x": [
          22.423582077026367,
          21.083288192749023,
          27.547945022583008,
          25.938364028930664,
          20.17336654663086,
          7.756442070007324,
          27.571334838867188,
          -8.797835350036621,
          6.083151817321777,
          7.2344794273376465
         ],
         "xaxis": "x",
         "y": [
          -17.96468162536621,
          -18.908035278320312,
          -18.850461959838867,
          -18.251556396484375,
          -50.87065505981445,
          -9.998495101928711,
          -17.88030242919922,
          -41.10696792602539,
          -0.5501622557640076,
          -3.737934112548828
         ],
         "yaxis": "y"
        },
        {
         "hovertemplate": "color=remember<br>x=%{x}<br>y=%{y}<extra></extra>",
         "legendgroup": "remember",
         "marker": {
          "color": "#00cc96",
          "symbol": "circle"
         },
         "mode": "markers",
         "name": "remember",
         "orientation": "v",
         "showlegend": true,
         "textposition": "top center",
         "type": "scatter",
         "x": [
          21.175222396850586,
          33.201541900634766,
          34.495662689208984,
          36.942604064941406,
          5.598398685455322,
          27.103546142578125,
          35.63387680053711,
          28.696680068969727,
          18.58649444580078,
          29.850610733032227
         ],
         "xaxis": "x",
         "y": [
          -61.0870361328125,
          -38.06734085083008,
          -38.87828826904297,
          -40.45460510253906,
          -54.09885787963867,
          -33.49836730957031,
          -39.5932731628418,
          -51.994361877441406,
          -50.78950500488281,
          -50.49431228637695
         ],
         "yaxis": "y"
        },
        {
         "hovertemplate": "color=say<br>x=%{x}<br>y=%{y}<extra></extra>",
         "legendgroup": "say",
         "marker": {
          "color": "#ab63fa",
          "symbol": "circle"
         },
         "mode": "markers",
         "name": "say",
         "orientation": "v",
         "showlegend": true,
         "textposition": "top center",
         "type": "scatter",
         "x": [
          3.3775641918182373,
          4.704766273498535,
          7.184437274932861,
          19.97368812561035,
          7.450247764587402,
          -7.577054977416992,
          7.980833053588867,
          11.160815238952637,
          12.14436149597168,
          3.9791007041931152
         ],
         "xaxis": "x",
         "y": [
          -65.65255737304688,
          -73.17471313476562,
          -51.495731353759766,
          -49.23908233642578,
          -72.27803039550781,
          -60.29580307006836,
          -66.72016143798828,
          -63.85626983642578,
          -66.20304870605469,
          -69.4888916015625
         ],
         "yaxis": "y"
        },
        {
         "hovertemplate": "color=feel<br>x=%{x}<br>y=%{y}<extra></extra>",
         "legendgroup": "feel",
         "marker": {
          "color": "#FFA15A",
          "symbol": "circle"
         },
         "mode": "markers",
         "name": "feel",
         "orientation": "v",
         "showlegend": true,
         "textposition": "top center",
         "type": "scatter",
         "x": [
          -24.70787239074707,
          -23.396392822265625,
          -23.638668060302734,
          -7.945533275604248,
          5.800732612609863,
          -17.406095504760742,
          -26.4234561920166,
          3.7589070796966553,
          0.8075743913650513,
          19.268646240234375
         ],
         "xaxis": "x",
         "y": [
          -51.58540344238281,
          -51.34080505371094,
          -49.920101165771484,
          -58.122169494628906,
          -50.900611877441406,
          -65.70308685302734,
          -52.202571868896484,
          6.902064800262451,
          -7.274416923522949,
          -11.41958999633789
         ],
         "yaxis": "y"
        },
        {
         "hovertemplate": "color=ask<br>x=%{x}<br>y=%{y}<extra></extra>",
         "legendgroup": "ask",
         "marker": {
          "color": "#19d3f3",
          "symbol": "circle"
         },
         "mode": "markers",
         "name": "ask",
         "orientation": "v",
         "showlegend": true,
         "textposition": "top center",
         "type": "scatter",
         "x": [
          19.246829986572266,
          20.797128677368164,
          21.583267211914062,
          18.84344482421875,
          18.431846618652344,
          5.1812543869018555,
          5.725637435913086,
          3.614305019378662,
          17.82485580444336,
          15.771940231323242
         ],
         "xaxis": "x",
         "y": [
          -27.70407485961914,
          -28.48526382446289,
          -26.670469284057617,
          -48.06588363647461,
          -30.9396915435791,
          -52.35858917236328,
          -12.59180736541748,
          -0.8008856773376465,
          -26.417644500732422,
          -8.173029899597168
         ],
         "yaxis": "y"
        },
        {
         "hovertemplate": "color=use<br>x=%{x}<br>y=%{y}<extra></extra>",
         "legendgroup": "use",
         "marker": {
          "color": "#FF6692",
          "symbol": "circle"
         },
         "mode": "markers",
         "name": "use",
         "orientation": "v",
         "showlegend": true,
         "textposition": "top center",
         "type": "scatter",
         "x": [
          -12.129959106445312,
          -15.766383171081543,
          -11.973669052124023,
          -10.144632339477539,
          -15.566009521484375,
          -7.276227951049805,
          -11.96837043762207,
          -14.293289184570312,
          -14.447709083557129,
          -13.843599319458008
         ],
         "xaxis": "x",
         "y": [
          39.23226547241211,
          40.2623291015625,
          40.62994384765625,
          40.002830505371094,
          35.593162536621094,
          36.39106750488281,
          37.361228942871094,
          34.93675231933594,
          39.426025390625,
          41.605499267578125
         ],
         "yaxis": "y"
        },
        {
         "hovertemplate": "color=offended<br>x=%{x}<br>y=%{y}<extra></extra>",
         "legendgroup": "offended",
         "marker": {
          "color": "#B6E880",
          "symbol": "circle"
         },
         "mode": "markers",
         "name": "offended",
         "orientation": "v",
         "showlegend": true,
         "textposition": "top center",
         "type": "scatter",
         "x": [
          52.46510314941406,
          39.13701248168945,
          56.28644561767578,
          58.84306335449219,
          55.217708587646484,
          54.780818939208984,
          51.126590728759766,
          38.576480865478516,
          52.89247131347656,
          59.74708557128906
         ],
         "xaxis": "x",
         "y": [
          -17.793128967285156,
          -18.99452781677246,
          -18.834184646606445,
          -17.08490753173828,
          -12.342442512512207,
          -14.692776679992676,
          -18.35340690612793,
          -18.323108673095703,
          -14.50938892364502,
          -18.168594360351562
         ],
         "yaxis": "y"
        },
        {
         "hovertemplate": "color=know<br>x=%{x}<br>y=%{y}<extra></extra>",
         "legendgroup": "know",
         "marker": {
          "color": "#FF97FF",
          "symbol": "circle"
         },
         "mode": "markers",
         "name": "know",
         "orientation": "v",
         "showlegend": true,
         "textposition": "top center",
         "type": "scatter",
         "x": [
          19.97368812561035,
          -6.387909889221191,
          -3.9074671268463135,
          10.057638168334961,
          -5.572169780731201,
          14.43210220336914,
          -0.10340161621570587,
          1.1464887857437134,
          9.546581268310547,
          1.9599453210830688
         ],
         "xaxis": "x",
         "y": [
          -49.23908233642578,
          -59.58185958862305,
          -29.687055587768555,
          -53.02067184448242,
          -52.866363525390625,
          -4.319398880004883,
          -55.34973907470703,
          -4.966423988342285,
          -68.93040466308594,
          -49.32579040527344
         ],
         "yaxis": "y"
        },
        {
         "hovertemplate": "color=speak<br>x=%{x}<br>y=%{y}<extra></extra>",
         "legendgroup": "speak",
         "marker": {
          "color": "#FECB52",
          "symbol": "circle"
         },
         "mode": "markers",
         "name": "speak",
         "orientation": "v",
         "showlegend": true,
         "textposition": "top center",
         "type": "scatter",
         "x": [
          34.33733367919922,
          33.807220458984375,
          36.01213073730469,
          32.425262451171875,
          17.452476501464844,
          19.71040153503418,
          3.704944133758545,
          15.925397872924805,
          19.1820125579834,
          8.431746482849121
         ],
         "xaxis": "x",
         "y": [
          -26.642393112182617,
          -27.430622100830078,
          -27.483808517456055,
          -27.460330963134766,
          -38.47056579589844,
          -36.93404769897461,
          -8.430810928344727,
          -38.99267578125,
          -45.00478744506836,
          -11.650461196899414
         ],
         "yaxis": "y"
        },
        {
         "hovertemplate": "color=ill<br>x=%{x}<br>y=%{y}<extra></extra>",
         "legendgroup": "ill",
         "marker": {
          "color": "#636efa",
          "symbol": "circle"
         },
         "mode": "markers",
         "name": "ill",
         "orientation": "v",
         "showlegend": true,
         "textposition": "top center",
         "type": "scatter",
         "x": [
          22.62158966064453,
          22.83143424987793,
          23.741966247558594,
          23.196718215942383,
          23.91741180419922,
          20.199687957763672,
          27.18349838256836,
          24.355619430541992,
          19.074609756469727,
          18.595239639282227
         ],
         "xaxis": "x",
         "y": [
          16.20911979675293,
          18.320087432861328,
          12.270195007324219,
          19.598997116088867,
          11.410758972167969,
          15.70371150970459,
          14.261042594909668,
          16.726760864257812,
          13.853955268859863,
          15.77274227142334
         ],
         "yaxis": "y"
        },
        {
         "hovertemplate": "color=like<br>x=%{x}<br>y=%{y}<extra></extra>",
         "legendgroup": "like",
         "marker": {
          "color": "#EF553B",
          "symbol": "circle"
         },
         "mode": "markers",
         "name": "like",
         "orientation": "v",
         "showlegend": true,
         "textposition": "top center",
         "type": "scatter",
         "x": [
          -18.695785522460938,
          14.614316940307617,
          15.057745933532715,
          -16.57720375061035,
          -10.547259330749512,
          9.66156005859375,
          -7.145574569702148,
          8.693124771118164,
          -13.57286548614502,
          12.771657943725586
         ],
         "xaxis": "x",
         "y": [
          -66.54122161865234,
          -13.980676651000977,
          -14.748530387878418,
          -68.23214721679688,
          -52.36927795410156,
          -7.091427803039551,
          -31.809240341186523,
          -5.7754950523376465,
          -64.08039093017578,
          -10.06285285949707
         ],
         "yaxis": "y"
        },
        {
         "hovertemplate": "color=help<br>x=%{x}<br>y=%{y}<extra></extra>",
         "legendgroup": "help",
         "marker": {
          "color": "#00cc96",
          "symbol": "circle"
         },
         "mode": "markers",
         "name": "help",
         "orientation": "v",
         "showlegend": true,
         "textposition": "top center",
         "type": "scatter",
         "x": [
          -28.248428344726562,
          -30.866647720336914,
          -26.52362060546875,
          -13.961736679077148,
          1.514803171157837,
          -28.8182430267334,
          -27.313894271850586,
          -27.610435485839844,
          1.9902353286743164,
          0.3391304314136505
         ],
         "xaxis": "x",
         "y": [
          29.942764282226562,
          32.57484817504883,
          26.716552734375,
          19.879549026489258,
          5.927252769470215,
          30.9791202545166,
          28.143085479736328,
          38.623531341552734,
          -33.0839729309082,
          1.2146644592285156
         ],
         "yaxis": "y"
        },
        {
         "hovertemplate": "color=belong<br>x=%{x}<br>y=%{y}<extra></extra>",
         "legendgroup": "belong",
         "marker": {
          "color": "#ab63fa",
          "symbol": "circle"
         },
         "mode": "markers",
         "name": "belong",
         "orientation": "v",
         "showlegend": true,
         "textposition": "top center",
         "type": "scatter",
         "x": [
          -3.9884111881256104,
          -3.2085018157958984,
          -2.057990789413452,
          -1.6216623783111572,
          22.1915283203125,
          -2.757688045501709,
          -10.602029800415039,
          -9.423844337463379,
          -0.48109304904937744,
          -0.9986342191696167
         ],
         "xaxis": "x",
         "y": [
          -14.474262237548828,
          -15.325685501098633,
          -16.16746711730957,
          -5.20782470703125,
          -7.215749263763428,
          -8.802809715270996,
          9.832487106323242,
          9.000457763671875,
          48.56438446044922,
          13.5848970413208
         ],
         "yaxis": "y"
        },
        {
         "hovertemplate": "color=drink<br>x=%{x}<br>y=%{y}<extra></extra>",
         "legendgroup": "drink",
         "marker": {
          "color": "#FFA15A",
          "symbol": "circle"
         },
         "mode": "markers",
         "name": "drink",
         "orientation": "v",
         "showlegend": true,
         "textposition": "top center",
         "type": "scatter",
         "x": [
          51.86326599121094,
          47.327239990234375,
          54.96005630493164,
          53.8195686340332,
          51.17741012573242,
          45.71022415161133,
          48.769412994384766,
          51.0389518737793,
          48.95323944091797,
          46.39969253540039
         ],
         "xaxis": "x",
         "y": [
          27.810699462890625,
          31.454612731933594,
          27.340654373168945,
          27.470487594604492,
          30.55839729309082,
          33.009483337402344,
          31.99632453918457,
          26.609872817993164,
          28.13095474243164,
          30.485721588134766
         ],
         "yaxis": "y"
        },
        {
         "hovertemplate": "color=shrink<br>x=%{x}<br>y=%{y}<extra></extra>",
         "legendgroup": "shrink",
         "marker": {
          "color": "#19d3f3",
          "symbol": "circle"
         },
         "mode": "markers",
         "name": "shrink",
         "orientation": "v",
         "showlegend": true,
         "textposition": "top center",
         "type": "scatter",
         "x": [
          12.00778579711914,
          13.789859771728516,
          14.519647598266602,
          15.535228729248047,
          15.3380765914917,
          -10.45157241821289,
          17.224512100219727,
          7.365140914916992,
          14.801319122314453,
          14.2813138961792
         ],
         "xaxis": "x",
         "y": [
          37.916404724121094,
          37.67621612548828,
          38.2783088684082,
          32.96455764770508,
          39.6885986328125,
          17.96985626220703,
          33.089054107666016,
          11.796361923217773,
          32.180809020996094,
          29.385164260864258
         ],
         "yaxis": "y"
        },
        {
         "hovertemplate": "color=end<br>x=%{x}<br>y=%{y}<extra></extra>",
         "legendgroup": "end",
         "marker": {
          "color": "#FF6692",
          "symbol": "circle"
         },
         "mode": "markers",
         "name": "end",
         "orientation": "v",
         "showlegend": true,
         "textposition": "top center",
         "type": "scatter",
         "x": [
          2.9526307582855225,
          1.3288168907165527,
          2.0930192470550537,
          3.6035072803497314,
          2.821477174758911,
          4.478577613830566,
          0.5258633494377136,
          2.089607000350952,
          -2.685948133468628,
          3.3576440811157227
         ],
         "xaxis": "x",
         "y": [
          25.930017471313477,
          25.092374801635742,
          19.355438232421875,
          26.48318099975586,
          10.756553649902344,
          11.931102752685547,
          16.81856918334961,
          20.952980041503906,
          11.062637329101562,
          17.386831283569336
         ],
         "yaxis": "y"
        },
        {
         "hovertemplate": "color=advise<br>x=%{x}<br>y=%{y}<extra></extra>",
         "legendgroup": "advise",
         "marker": {
          "color": "#B6E880",
          "symbol": "circle"
         },
         "mode": "markers",
         "name": "advise",
         "orientation": "v",
         "showlegend": true,
         "textposition": "top center",
         "type": "scatter",
         "x": [
          11.878312110900879,
          11.806509017944336,
          13.702086448669434,
          12.298127174377441,
          8.718743324279785,
          25.528093338012695,
          25.28487777709961,
          10.1598539352417,
          11.741351127624512,
          10.256250381469727
         ],
         "xaxis": "x",
         "y": [
          -20.98427391052246,
          -21.871259689331055,
          -21.387422561645508,
          -33.284114837646484,
          -33.47075653076172,
          -55.544822692871094,
          -53.66876220703125,
          -17.376964569091797,
          -70.98295593261719,
          -24.405298233032227
         ],
         "yaxis": "y"
        },
        {
         "hovertemplate": "color=manage<br>x=%{x}<br>y=%{y}<extra></extra>",
         "legendgroup": "manage",
         "marker": {
          "color": "#FF97FF",
          "symbol": "circle"
         },
         "mode": "markers",
         "name": "manage",
         "orientation": "v",
         "showlegend": true,
         "textposition": "top center",
         "type": "scatter",
         "x": [
          -12.112457275390625,
          -18.352014541625977,
          -13.470503807067871,
          -11.97365665435791,
          -13.973881721496582,
          -10.258979797363281,
          -17.274118423461914,
          -11.22201156616211,
          2.0769567489624023,
          -18.877185821533203
         ],
         "xaxis": "x",
         "y": [
          26.773969650268555,
          27.646339416503906,
          31.96196746826172,
          24.67049789428711,
          23.897899627685547,
          23.501523971557617,
          26.03635597229004,
          19.780744552612305,
          13.83064079284668,
          28.919719696044922
         ],
         "yaxis": "y"
        },
        {
         "hovertemplate": "color=put<br>x=%{x}<br>y=%{y}<extra></extra>",
         "legendgroup": "put",
         "marker": {
          "color": "#FECB52",
          "symbol": "circle"
         },
         "mode": "markers",
         "name": "put",
         "orientation": "v",
         "showlegend": true,
         "textposition": "top center",
         "type": "scatter",
         "x": [
          -54.47997283935547,
          -53.77518844604492,
          -57.193180084228516,
          -58.03267288208008,
          -52.86835479736328,
          -54.44959259033203,
          -45.12461471557617,
          -46.003395080566406,
          -48.36613464355469,
          -47.15617370605469
         ],
         "xaxis": "x",
         "y": [
          15.768961906433105,
          17.883089065551758,
          15.870579719543457,
          16.66680335998535,
          13.571572303771973,
          3.2219271659851074,
          22.04983139038086,
          17.20052146911621,
          16.258073806762695,
          7.835306167602539
         ],
         "yaxis": "y"
        },
        {
         "hovertemplate": "color=right<br>x=%{x}<br>y=%{y}<extra></extra>",
         "legendgroup": "right",
         "marker": {
          "color": "#636efa",
          "symbol": "circle"
         },
         "mode": "markers",
         "name": "right",
         "orientation": "v",
         "showlegend": true,
         "textposition": "top center",
         "type": "scatter",
         "x": [
          -19.37472152709961,
          1.9921324253082275,
          18.570947647094727,
          2.4806408882141113,
          7.5972747802734375,
          13.517110824584961,
          1.6486860513687134,
          5.6955766677856445,
          -19.832502365112305,
          14.894075393676758
         ],
         "xaxis": "x",
         "y": [
          -3.7230420112609863,
          -2.425060749053955,
          -4.325736045837402,
          8.038985252380371,
          7.057502269744873,
          2.7273948192596436,
          9.10777759552002,
          6.535302639007568,
          -5.7281317710876465,
          3.0549018383026123
         ],
         "yaxis": "y"
        },
        {
         "hovertemplate": "color=allow<br>x=%{x}<br>y=%{y}<extra></extra>",
         "legendgroup": "allow",
         "marker": {
          "color": "#EF553B",
          "symbol": "circle"
         },
         "mode": "markers",
         "name": "allow",
         "orientation": "v",
         "showlegend": true,
         "textposition": "top center",
         "type": "scatter",
         "x": [
          -26.974693298339844,
          -29.98593521118164,
          -32.29151916503906,
          -30.695253372192383,
          -26.93421745300293,
          -29.133237838745117,
          -27.477567672729492,
          -31.385257720947266,
          -8.443897247314453,
          -23.45108413696289
         ],
         "xaxis": "x",
         "y": [
          38.08365249633789,
          41.257713317871094,
          35.503360748291016,
          42.48533630371094,
          42.96318817138672,
          37.743675231933594,
          36.195499420166016,
          36.587181091308594,
          -22.7869873046875,
          41.525386810302734
         ],
         "yaxis": "y"
        },
        {
         "hovertemplate": "color=catch<br>x=%{x}<br>y=%{y}<extra></extra>",
         "legendgroup": "catch",
         "marker": {
          "color": "#00cc96",
          "symbol": "circle"
         },
         "mode": "markers",
         "name": "catch",
         "orientation": "v",
         "showlegend": true,
         "textposition": "top center",
         "type": "scatter",
         "x": [
          25.218992233276367,
          25.611679077148438,
          27.64521026611328,
          23.86048698425293,
          -47.463993072509766,
          10.226433753967285,
          -47.2025146484375,
          15.453973770141602,
          -47.179664611816406,
          13.95972728729248
         ],
         "xaxis": "x",
         "y": [
          38.81440353393555,
          39.61916732788086,
          39.17778778076172,
          37.70266342163086,
          -18.230426788330078,
          14.419515609741211,
          -16.629867553710938,
          5.280551433563232,
          -14.179633140563965,
          6.927354335784912
         ],
         "yaxis": "y"
        },
        {
         "hovertemplate": "color=miss<br>x=%{x}<br>y=%{y}<extra></extra>",
         "legendgroup": "miss",
         "marker": {
          "color": "#ab63fa",
          "symbol": "circle"
         },
         "mode": "markers",
         "name": "miss",
         "orientation": "v",
         "showlegend": true,
         "textposition": "top center",
         "type": "scatter",
         "x": [
          18.284503936767578,
          17.60060691833496,
          9.97154712677002,
          19.81844711303711,
          11.32382869720459,
          10.88199234008789,
          -41.42121887207031,
          -37.035736083984375,
          9.66911792755127,
          21.833364486694336
         ],
         "xaxis": "x",
         "y": [
          8.814282417297363,
          9.570844650268555,
          5.114234924316406,
          8.109879493713379,
          5.649282932281494,
          6.717722415924072,
          -0.3877776563167572,
          -13.318896293640137,
          2.962963104248047,
          -61.49489212036133
         ],
         "yaxis": "y"
        },
        {
         "hovertemplate": "color=stop<br>x=%{x}<br>y=%{y}<extra></extra>",
         "legendgroup": "stop",
         "marker": {
          "color": "#FFA15A",
          "symbol": "circle"
         },
         "mode": "markers",
         "name": "stop",
         "orientation": "v",
         "showlegend": true,
         "textposition": "top center",
         "type": "scatter",
         "x": [
          3.1912899017333984,
          4.146710395812988,
          5.5666913986206055,
          6.031533718109131,
          0.2534930408000946,
          -20.521787643432617,
          5.036340713500977,
          -0.9356814622879028,
          -19.94443130493164,
          -20.227996826171875
         ],
         "xaxis": "x",
         "y": [
          33.70363235473633,
          34.05442810058594,
          32.58482360839844,
          -5.2908220291137695,
          33.11225891113281,
          5.05034065246582,
          35.79158401489258,
          32.797298431396484,
          2.8816914558410645,
          3.8327436447143555
         ],
         "yaxis": "y"
        },
        {
         "hovertemplate": "color=found<br>x=%{x}<br>y=%{y}<extra></extra>",
         "legendgroup": "found",
         "marker": {
          "color": "#19d3f3",
          "symbol": "circle"
         },
         "mode": "markers",
         "name": "found",
         "orientation": "v",
         "showlegend": true,
         "textposition": "top center",
         "type": "scatter",
         "x": [
          -45.081451416015625,
          -37.2306022644043,
          -46.059715270996094,
          -41.58852767944336,
          -41.73441696166992,
          -42.931640625,
          -46.39832305908203,
          -48.55229568481445,
          -45.927757263183594,
          -30.115205764770508
         ],
         "xaxis": "x",
         "y": [
          -34.65301513671875,
          -31.31490135192871,
          -36.79820251464844,
          -27.36962127685547,
          -30.45932960510254,
          -36.0240478515625,
          -37.85604476928711,
          -34.12973403930664,
          -31.618515014648438,
          -16.54472541809082
         ],
         "yaxis": "y"
        },
        {
         "hovertemplate": "color=eat<br>x=%{x}<br>y=%{y}<extra></extra>",
         "legendgroup": "eat",
         "marker": {
          "color": "#FF6692",
          "symbol": "circle"
         },
         "mode": "markers",
         "name": "eat",
         "orientation": "v",
         "showlegend": true,
         "textposition": "top center",
         "type": "scatter",
         "x": [
          35.58289337158203,
          37.301353454589844,
          37.31904983520508,
          34.65761184692383,
          27.291301727294922,
          35.53192901611328,
          37.6093864440918,
          32.33435821533203,
          33.63831329345703,
          35.669189453125
         ],
         "xaxis": "x",
         "y": [
          29.565340042114258,
          31.574193954467773,
          30.209827423095703,
          31.655426025390625,
          28.63311004638672,
          24.669677734375,
          26.29398536682129,
          27.21040153503418,
          25.864051818847656,
          26.978351593017578
         ],
         "yaxis": "y"
        },
        {
         "hovertemplate": "color=changed<br>x=%{x}<br>y=%{y}<extra></extra>",
         "legendgroup": "changed",
         "marker": {
          "color": "#B6E880",
          "symbol": "circle"
         },
         "mode": "markers",
         "name": "changed",
         "orientation": "v",
         "showlegend": true,
         "textposition": "top center",
         "type": "scatter",
         "x": [
          10.358658790588379,
          7.069955348968506,
          6.461514472961426,
          8.8834228515625,
          12.04283332824707,
          12.785958290100098,
          -35.8630256652832,
          8.169578552246094,
          9.236700057983398,
          12.830894470214844
         ],
         "xaxis": "x",
         "y": [
          67.12248229980469,
          69.21861267089844,
          68.45038604736328,
          66.66567993164062,
          68.15544891357422,
          69.34703826904297,
          13.538614273071289,
          65.02754974365234,
          68.31303405761719,
          64.00554656982422
         ],
         "yaxis": "y"
        },
        {
         "hovertemplate": "color=wait<br>x=%{x}<br>y=%{y}<extra></extra>",
         "legendgroup": "wait",
         "marker": {
          "color": "#FF97FF",
          "symbol": "circle"
         },
         "mode": "markers",
         "name": "wait",
         "orientation": "v",
         "showlegend": true,
         "textposition": "top center",
         "type": "scatter",
         "x": [
          34.55255126953125,
          35.736270904541016,
          35.004756927490234,
          35.472412109375,
          8.919651985168457,
          16.705530166625977,
          5.018585681915283,
          34.43825912475586,
          32.12843704223633,
          15.304789543151855
         ],
         "xaxis": "x",
         "y": [
          -8.122584342956543,
          -8.459456443786621,
          -6.287806034088135,
          -11.077055931091309,
          -2.497558832168579,
          -2.0782766342163086,
          -19.28464698791504,
          -9.585323333740234,
          -7.195542335510254,
          -1.8472459316253662
         ],
         "yaxis": "y"
        },
        {
         "hovertemplate": "color=make<br>x=%{x}<br>y=%{y}<extra></extra>",
         "legendgroup": "make",
         "marker": {
          "color": "#FECB52",
          "symbol": "circle"
         },
         "mode": "markers",
         "name": "make",
         "orientation": "v",
         "showlegend": true,
         "textposition": "top center",
         "type": "scatter",
         "x": [
          -27.84737205505371,
          -27.43988609313965,
          -26.62746810913086,
          -29.608585357666016,
          -30.332508087158203,
          -8.247241973876953,
          -47.29240036010742,
          -46.00442123413086,
          -0.515293538570404,
          -27.727590560913086
         ],
         "xaxis": "x",
         "y": [
          1.495077133178711,
          2.195187568664551,
          -0.28987589478492737,
          0.9350164532661438,
          -0.49042099714279175,
          13.722511291503906,
          -9.38205623626709,
          38.323509216308594,
          6.915841102600098,
          -2.096280097961426
         ],
         "yaxis": "y"
        },
        {
         "hovertemplate": "color=kept<br>x=%{x}<br>y=%{y}<extra></extra>",
         "legendgroup": "kept",
         "marker": {
          "color": "#636efa",
          "symbol": "circle"
         },
         "mode": "markers",
         "name": "kept",
         "orientation": "v",
         "showlegend": true,
         "textposition": "top center",
         "type": "scatter",
         "x": [
          -71.4098892211914,
          -73.01702117919922,
          -75.4413833618164,
          -63.662208557128906,
          -81.11248016357422,
          -74.27047729492188,
          -65.68402099609375,
          -78.22891235351562,
          -64.04507446289062,
          -69.40924835205078
         ],
         "xaxis": "x",
         "y": [
          0.07582668960094452,
          1.7243549823760986,
          -1.8937369585037231,
          -5.962510585784912,
          0.1557684987783432,
          5.03235387802124,
          -7.837884902954102,
          7.558300018310547,
          5.309715270996094,
          13.231683731079102
         ],
         "yaxis": "y"
        },
        {
         "hovertemplate": "color=sneezing<br>x=%{x}<br>y=%{y}<extra></extra>",
         "legendgroup": "sneezing",
         "marker": {
          "color": "#EF553B",
          "symbol": "circle"
         },
         "mode": "markers",
         "name": "sneezing",
         "orientation": "v",
         "showlegend": true,
         "textposition": "top center",
         "type": "scatter",
         "x": [
          34.47986602783203,
          33.99150085449219,
          28.05800437927246,
          32.296363830566406,
          33.796573638916016,
          29.591554641723633,
          30.0723934173584,
          30.826906204223633,
          32.58700180053711,
          29.8057918548584
         ],
         "xaxis": "x",
         "y": [
          3.209980010986328,
          3.9282071590423584,
          8.256306648254395,
          11.347596168518066,
          11.976973533630371,
          5.923099517822266,
          8.038341522216797,
          9.698566436767578,
          8.079484939575195,
          9.57457447052002
         ],
         "yaxis": "y"
        },
        {
         "hovertemplate": "color=grin<br>x=%{x}<br>y=%{y}<extra></extra>",
         "legendgroup": "grin",
         "marker": {
          "color": "#00cc96",
          "symbol": "circle"
         },
         "mode": "markers",
         "name": "grin",
         "orientation": "v",
         "showlegend": true,
         "textposition": "top center",
         "type": "scatter",
         "x": [
          69.07780456542969,
          66.83274841308594,
          68.55594635009766,
          68.71224212646484,
          69.8455581665039,
          69.72672271728516,
          68.00228118896484,
          70.68043518066406,
          65.26814270019531,
          71.39094543457031
         ],
         "xaxis": "x",
         "y": [
          11.934576034545898,
          12.618499755859375,
          10.121007919311523,
          7.652403831481934,
          7.96258544921875,
          14.928135871887207,
          12.80777645111084,
          12.09129810333252,
          12.660064697265625,
          14.168493270874023
         ],
         "yaxis": "y"
        },
        {
         "hovertemplate": "color=introduce<br>x=%{x}<br>y=%{y}<extra></extra>",
         "legendgroup": "introduce",
         "marker": {
          "color": "#ab63fa",
          "symbol": "circle"
         },
         "mode": "markers",
         "name": "introduce",
         "orientation": "v",
         "showlegend": true,
         "textposition": "top center",
         "type": "scatter",
         "x": [
          -22.56513786315918,
          -23.35042953491211,
          -23.566322326660156,
          -25.85845375061035,
          -22.293479919433594,
          -22.099666595458984,
          -17.785860061645508,
          -21.199493408203125,
          -7.245024681091309,
          -7.381759166717529
         ],
         "xaxis": "x",
         "y": [
          58.02864074707031,
          54.99008560180664,
          57.78517150878906,
          58.13133239746094,
          60.122623443603516,
          61.53278732299805,
          40.75480270385742,
          57.5113639831543,
          28.857784271240234,
          27.779144287109375
         ],
         "yaxis": "y"
        },
        {
         "hovertemplate": "color=cook<br>x=%{x}<br>y=%{y}<extra></extra>",
         "legendgroup": "cook",
         "marker": {
          "color": "#FFA15A",
          "symbol": "circle"
         },
         "mode": "markers",
         "name": "cook",
         "orientation": "v",
         "showlegend": true,
         "textposition": "top center",
         "type": "scatter",
         "x": [
          35.48293685913086,
          34.499141693115234,
          37.2750244140625,
          42.490482330322266,
          39.537689208984375,
          42.884944915771484,
          31.170513153076172,
          30.661561965942383,
          38.97786331176758,
          31.84552764892578
         ],
         "xaxis": "x",
         "y": [
          18.638044357299805,
          17.993745803833008,
          19.372846603393555,
          18.395044326782227,
          18.515399932861328,
          19.16450309753418,
          18.785802841186523,
          21.841571807861328,
          20.35038948059082,
          22.567964553833008
         ],
         "yaxis": "y"
        },
        {
         "hovertemplate": "color=doubt<br>x=%{x}<br>y=%{y}<extra></extra>",
         "legendgroup": "doubt",
         "marker": {
          "color": "#19d3f3",
          "symbol": "circle"
         },
         "mode": "markers",
         "name": "doubt",
         "orientation": "v",
         "showlegend": true,
         "textposition": "top center",
         "type": "scatter",
         "x": [
          5.777520656585693,
          2.601217269897461,
          0.750525951385498,
          4.70975923538208,
          6.222072601318359,
          7.584183692932129,
          5.094784259796143,
          7.403785705566406,
          3.3010454177856445,
          24.534320831298828
         ],
         "xaxis": "x",
         "y": [
          -42.06367874145508,
          -59.343475341796875,
          -59.854270935058594,
          -41.45328140258789,
          -48.4602165222168,
          0.9064046740531921,
          -14.247593879699707,
          -41.89229965209961,
          -4.917159557342529,
          -11.234938621520996
         ],
         "yaxis": "y"
        },
        {
         "hovertemplate": "color=denied<br>x=%{x}<br>y=%{y}<extra></extra>",
         "legendgroup": "denied",
         "marker": {
          "color": "#FF6692",
          "symbol": "circle"
         },
         "mode": "markers",
         "name": "denied",
         "orientation": "v",
         "showlegend": true,
         "textposition": "top center",
         "type": "scatter",
         "x": [
          56.855533599853516,
          53.375057220458984,
          56.391754150390625,
          56.20454406738281,
          57.50619125366211,
          52.8128547668457,
          58.30312728881836,
          53.89080047607422,
          52.34734344482422,
          58.09672927856445
         ],
         "xaxis": "x",
         "y": [
          -40.34125518798828,
          -36.480709075927734,
          -42.47105026245117,
          -43.73392868041992,
          -43.4210205078125,
          -37.02015686035156,
          -41.81327819824219,
          -43.991371154785156,
          -44.29331970214844,
          -45.324092864990234
         ],
         "yaxis": "y"
        },
        {
         "hovertemplate": "color=bear<br>x=%{x}<br>y=%{y}<extra></extra>",
         "legendgroup": "bear",
         "marker": {
          "color": "#B6E880",
          "symbol": "circle"
         },
         "mode": "markers",
         "name": "bear",
         "orientation": "v",
         "showlegend": true,
         "textposition": "top center",
         "type": "scatter",
         "x": [
          36.62248611450195,
          40.75242233276367,
          29.60599708557129,
          38.067256927490234,
          7.95210075378418,
          39.26338577270508,
          41.729854583740234,
          35.5098876953125,
          36.23890686035156,
          36.942413330078125
         ],
         "xaxis": "x",
         "y": [
          42.148807525634766,
          47.97968292236328,
          -0.6315463781356812,
          48.84327697753906,
          9.390241622924805,
          46.81981658935547,
          47.975257873535156,
          47.62161636352539,
          46.43153381347656,
          44.53777313232422
         ],
         "yaxis": "y"
        },
        {
         "hovertemplate": "color=call<br>x=%{x}<br>y=%{y}<extra></extra>",
         "legendgroup": "call",
         "marker": {
          "color": "#FF97FF",
          "symbol": "circle"
         },
         "mode": "markers",
         "name": "call",
         "orientation": "v",
         "showlegend": true,
         "textposition": "top center",
         "type": "scatter",
         "x": [
          25.044958114624023,
          24.77469825744629,
          23.82512664794922,
          20.911251068115234,
          21.969907760620117,
          22.39344024658203,
          5.343946933746338,
          3.9516713619232178,
          23.44509506225586,
          19.345767974853516
         ],
         "xaxis": "x",
         "y": [
          1.8481650352478027,
          -3.0550320148468018,
          -1.6446722745895386,
          0.7601714730262756,
          3.6060774326324463,
          2.2230384349823,
          9.34318733215332,
          9.032076835632324,
          3.413198232650757,
          3.365147829055786
         ],
         "yaxis": "y"
        },
        {
         "hovertemplate": "color=lie<br>x=%{x}<br>y=%{y}<extra></extra>",
         "legendgroup": "lie",
         "marker": {
          "color": "#FECB52",
          "symbol": "circle"
         },
         "mode": "markers",
         "name": "lie",
         "orientation": "v",
         "showlegend": true,
         "textposition": "top center",
         "type": "scatter",
         "x": [
          -6.320561408996582,
          -8.900050163269043,
          -9.28181266784668,
          -3.0486092567443848,
          -31.362319946289062,
          -6.3275041580200195,
          -0.984042227268219,
          -19.606338500976562,
          16.78696632385254,
          -4.968851566314697
         ],
         "xaxis": "x",
         "y": [
          -5.46541690826416,
          -4.220235347747803,
          -6.023780345916748,
          -2.8510210514068604,
          7.7727532386779785,
          -2.4600706100463867,
          -2.0313520431518555,
          -26.868785858154297,
          -5.707022190093994,
          -8.998806953430176
         ],
         "yaxis": "y"
        },
        {
         "hovertemplate": "color=twist<br>x=%{x}<br>y=%{y}<extra></extra>",
         "legendgroup": "twist",
         "marker": {
          "color": "#636efa",
          "symbol": "circle"
         },
         "mode": "markers",
         "name": "twist",
         "orientation": "v",
         "showlegend": true,
         "textposition": "top center",
         "type": "scatter",
         "x": [
          10.750370025634766,
          9.440483093261719,
          6.89152717590332,
          11.286441802978516,
          8.295231819152832,
          5.554206371307373,
          13.199776649475098,
          12.534581184387207,
          7.663804531097412,
          8.503482818603516
         ],
         "xaxis": "x",
         "y": [
          18.868452072143555,
          22.709917068481445,
          18.552379608154297,
          17.005197525024414,
          22.224899291992188,
          14.668643951416016,
          16.585391998291016,
          19.327587127685547,
          17.05306053161621,
          14.973738670349121
         ],
         "yaxis": "y"
        },
        {
         "hovertemplate": "color=become<br>x=%{x}<br>y=%{y}<extra></extra>",
         "legendgroup": "become",
         "marker": {
          "color": "#EF553B",
          "symbol": "circle"
         },
         "mode": "markers",
         "name": "become",
         "orientation": "v",
         "showlegend": true,
         "textposition": "top center",
         "type": "scatter",
         "x": [
          -23.100265502929688,
          -25.167438507080078,
          -23.553808212280273,
          -22.202571868896484,
          -14.414855003356934,
          -21.973472595214844,
          -17.27461051940918,
          -16.528778076171875,
          -14.39081859588623,
          -15.55771541595459
         ],
         "xaxis": "x",
         "y": [
          12.997852325439453,
          12.082770347595215,
          10.299175262451172,
          14.8092041015625,
          12.95058536529541,
          16.376306533813477,
          14.052326202392578,
          9.059609413146973,
          -5.144871711730957,
          8.94612979888916
         ],
         "yaxis": "y"
        },
        {
         "hovertemplate": "color=play<br>x=%{x}<br>y=%{y}<extra></extra>",
         "legendgroup": "play",
         "marker": {
          "color": "#00cc96",
          "symbol": "circle"
         },
         "mode": "markers",
         "name": "play",
         "orientation": "v",
         "showlegend": true,
         "textposition": "top center",
         "type": "scatter",
         "x": [
          -10.642993927001953,
          -8.179616928100586,
          -9.900461196899414,
          -13.713052749633789,
          -3.878026008605957,
          -11.82119369506836,
          -14.528602600097656,
          -1.0964009761810303,
          6.187159061431885,
          -3.3202812671661377
         ],
         "xaxis": "x",
         "y": [
          3.330958843231201,
          2.5163679122924805,
          2.824641466140747,
          0.20417091250419617,
          4.210397720336914,
          4.389878749847412,
          0.13760130107402802,
          3.837519884109497,
          4.378925323486328,
          1.6212050914764404
         ],
         "yaxis": "y"
        },
        {
         "hovertemplate": "color=look<br>x=%{x}<br>y=%{y}<extra></extra>",
         "legendgroup": "look",
         "marker": {
          "color": "#ab63fa",
          "symbol": "circle"
         },
         "mode": "markers",
         "name": "look",
         "orientation": "v",
         "showlegend": true,
         "textposition": "top center",
         "type": "scatter",
         "x": [
          -19.942256927490234,
          -19.533994674682617,
          -19.677799224853516,
          -21.348369598388672,
          -7.571719169616699,
          -21.66238784790039,
          -17.134735107421875,
          -15.11141586303711,
          9.973836898803711,
          -16.711212158203125
         ],
         "xaxis": "x",
         "y": [
          -41.8735237121582,
          -39.12660598754883,
          -36.33863830566406,
          -43.85423278808594,
          -40.54652404785156,
          -37.03140640258789,
          -41.376285552978516,
          -39.58461380004883,
          -32.37118148803711,
          -37.46715545654297
         ],
         "yaxis": "y"
        },
        {
         "hovertemplate": "color=bite<br>x=%{x}<br>y=%{y}<extra></extra>",
         "legendgroup": "bite",
         "marker": {
          "color": "#FFA15A",
          "symbol": "circle"
         },
         "mode": "markers",
         "name": "bite",
         "orientation": "v",
         "showlegend": true,
         "textposition": "top center",
         "type": "scatter",
         "x": [
          18.334806442260742,
          17.342878341674805,
          12.272141456604004,
          13.447393417358398,
          19.40557289123535,
          15.900638580322266,
          25.878019332885742,
          26.761394500732422,
          24.725589752197266,
          13.800912857055664
         ],
         "xaxis": "x",
         "y": [
          22.00921058654785,
          23.108591079711914,
          11.356544494628906,
          13.112639427185059,
          23.912511825561523,
          23.742450714111328,
          29.880443572998047,
          27.516536712646484,
          28.11251449584961,
          10.346504211425781
         ],
         "yaxis": "y"
        },
        {
         "hovertemplate": "color=let<br>x=%{x}<br>y=%{y}<extra></extra>",
         "legendgroup": "let",
         "marker": {
          "color": "#19d3f3",
          "symbol": "circle"
         },
         "mode": "markers",
         "name": "let",
         "orientation": "v",
         "showlegend": true,
         "textposition": "top center",
         "type": "scatter",
         "x": [
          -9.660990715026855,
          -6.786018371582031,
          -5.859304904937744,
          -3.156418800354004,
          -33.32265853881836,
          14.126566886901855,
          -27.93868637084961,
          1.723758578300476,
          -6.323195934295654,
          -11.340616226196289
         ],
         "xaxis": "x",
         "y": [
          -22.58225440979004,
          -21.467578887939453,
          -29.468910217285156,
          -32.12152099609375,
          34.833614349365234,
          -6.535866737365723,
          41.20985794067383,
          -33.79670715332031,
          -25.53568458557129,
          -22.227663040161133
         ],
         "yaxis": "y"
        },
        {
         "hovertemplate": "color=break<br>x=%{x}<br>y=%{y}<extra></extra>",
         "legendgroup": "break",
         "marker": {
          "color": "#FF6692",
          "symbol": "circle"
         },
         "mode": "markers",
         "name": "break",
         "orientation": "v",
         "showlegend": true,
         "textposition": "top center",
         "type": "scatter",
         "x": [
          16.099414825439453,
          18.9725341796875,
          17.78807830810547,
          17.726377487182617,
          22.148273468017578,
          20.915842056274414,
          10.708916664123535,
          20.553251266479492,
          -0.26735028624534607,
          9.605823516845703
         ],
         "xaxis": "x",
         "y": [
          47.130157470703125,
          50.35536193847656,
          50.20110321044922,
          51.48970413208008,
          53.034080505371094,
          52.06803894042969,
          10.324660301208496,
          48.03329849243164,
          9.607564926147461,
          27.31601333618164
         ],
         "yaxis": "y"
        },
        {
         "hovertemplate": "color=ashamed<br>x=%{x}<br>y=%{y}<extra></extra>",
         "legendgroup": "ashamed",
         "marker": {
          "color": "#B6E880",
          "symbol": "circle"
         },
         "mode": "markers",
         "name": "ashamed",
         "orientation": "v",
         "showlegend": true,
         "textposition": "top center",
         "type": "scatter",
         "x": [
          55.217708587646484,
          50.91552734375,
          55.38056182861328,
          57.24808883666992,
          55.87343215942383,
          48.231178283691406,
          58.15047836303711,
          49.99175262451172,
          46.53965759277344,
          58.49315643310547
         ],
         "xaxis": "x",
         "y": [
          -12.342442512512207,
          -10.108098983764648,
          -10.164175033569336,
          -15.308364868164062,
          -8.845152854919434,
          -14.061254501342773,
          -12.783867835998535,
          -8.86320686340332,
          -14.846695899963379,
          -15.680306434631348
         ],
         "yaxis": "y"
        },
        {
         "hovertemplate": "color=lived<br>x=%{x}<br>y=%{y}<extra></extra>",
         "legendgroup": "lived",
         "marker": {
          "color": "#FF97FF",
          "symbol": "circle"
         },
         "mode": "markers",
         "name": "lived",
         "orientation": "v",
         "showlegend": true,
         "textposition": "top center",
         "type": "scatter",
         "x": [
          3.205754041671753,
          -0.6654842495918274,
          5.069587707519531,
          3.974815607070923,
          0.8906194567680359,
          1.5698169469833374,
          6.140676498413086,
          -0.07209649682044983,
          -63.662208557128906,
          0.6901179552078247
         ],
         "xaxis": "x",
         "y": [
          47.74763870239258,
          42.98331069946289,
          48.4010124206543,
          44.89406204223633,
          47.7066764831543,
          50.021766662597656,
          44.16559600830078,
          49.27187728881836,
          -5.962510585784912,
          12.176178932189941
         ],
         "yaxis": "y"
        },
        {
         "hovertemplate": "color=pretty<br>x=%{x}<br>y=%{y}<extra></extra>",
         "legendgroup": "pretty",
         "marker": {
          "color": "#FECB52",
          "symbol": "circle"
         },
         "mode": "markers",
         "name": "pretty",
         "orientation": "v",
         "showlegend": true,
         "textposition": "top center",
         "type": "scatter",
         "x": [
          -21.01572608947754,
          -25.15039825439453,
          -22.64619255065918,
          -25.236289978027344,
          -27.175363540649414,
          -20.255970001220703,
          -25.22759246826172,
          -18.79250144958496,
          -25.12639617919922,
          -25.12236785888672
         ],
         "xaxis": "x",
         "y": [
          -72.54254913330078,
          -68.62821960449219,
          -71.29533386230469,
          -67.38420867919922,
          -67.86778259277344,
          -73.2793197631836,
          -71.66771697998047,
          -65.03478240966797,
          -70.57231903076172,
          -65.1599349975586
         ],
         "yaxis": "y"
        },
        {
         "hovertemplate": "color=believe<br>x=%{x}<br>y=%{y}<extra></extra>",
         "legendgroup": "believe",
         "marker": {
          "color": "#636efa",
          "symbol": "circle"
         },
         "mode": "markers",
         "name": "believe",
         "orientation": "v",
         "showlegend": true,
         "textposition": "top center",
         "type": "scatter",
         "x": [
          9.24163818359375,
          -6.5706257820129395,
          4.428563594818115,
          11.549223899841309,
          1.5781155824661255,
          3.681551218032837,
          -3.5959911346435547,
          -3.680044174194336,
          9.324071884155273,
          3.438889980316162
         ],
         "xaxis": "x",
         "y": [
          -70.09078216552734,
          -58.20641326904297,
          -72.42708587646484,
          -63.240692138671875,
          -64.20327758789062,
          -63.33974838256836,
          -67.8052749633789,
          -66.94013977050781,
          -62.79976272583008,
          -52.1718864440918
         ],
         "yaxis": "y"
        },
        {
         "hovertemplate": "color=stand<br>x=%{x}<br>y=%{y}<extra></extra>",
         "legendgroup": "stand",
         "marker": {
          "color": "#EF553B",
          "symbol": "circle"
         },
         "mode": "markers",
         "name": "stand",
         "orientation": "v",
         "showlegend": true,
         "textposition": "top center",
         "type": "scatter",
         "x": [
          -12.675882339477539,
          -11.38845157623291,
          -13.596633911132812,
          -19.606338500976562,
          2.686107873916626,
          11.212989807128906,
          -7.050108909606934,
          -9.664067268371582,
          3.7216928005218506,
          -13.354496002197266
         ],
         "xaxis": "x",
         "y": [
          -11.531447410583496,
          -12.358145713806152,
          -13.189181327819824,
          -26.868785858154297,
          2.813312292098999,
          0.18827295303344727,
          -4.696249485015869,
          -12.77164077758789,
          4.200489044189453,
          -14.906450271606445
         ],
         "yaxis": "y"
        },
        {
         "hovertemplate": "color=proceed<br>x=%{x}<br>y=%{y}<extra></extra>",
         "legendgroup": "proceed",
         "marker": {
          "color": "#00cc96",
          "symbol": "circle"
         },
         "mode": "markers",
         "name": "proceed",
         "orientation": "v",
         "showlegend": true,
         "textposition": "top center",
         "type": "scatter",
         "x": [
          -3.024653911590576,
          -3.74771785736084,
          -6.666226863861084,
          -5.226927757263184,
          -9.47136402130127,
          -4.7457051277160645,
          -2.6215720176696777,
          -5.296600818634033,
          -9.361398696899414,
          9.788824081420898
         ],
         "xaxis": "x",
         "y": [
          18.88870620727539,
          16.236404418945312,
          21.24876594543457,
          17.394207000732422,
          52.391212463378906,
          26.039016723632812,
          21.050153732299805,
          5.561722755432129,
          53.18033218383789,
          -30.071435928344727
         ],
         "yaxis": "y"
        },
        {
         "hovertemplate": "color=give<br>x=%{x}<br>y=%{y}<extra></extra>",
         "legendgroup": "give",
         "marker": {
          "color": "#ab63fa",
          "symbol": "circle"
         },
         "mode": "markers",
         "name": "give",
         "orientation": "v",
         "showlegend": true,
         "textposition": "top center",
         "type": "scatter",
         "x": [
          -47.954097747802734,
          -46.85343933105469,
          -46.88029098510742,
          -44.016441345214844,
          -43.420589447021484,
          -49.512203216552734,
          -49.19804763793945,
          -56.419498443603516,
          -46.08728790283203,
          -5.489842414855957
         ],
         "xaxis": "x",
         "y": [
          38.131710052490234,
          36.140323638916016,
          42.01169204711914,
          36.60026168823242,
          40.022804260253906,
          37.317626953125,
          40.375282287597656,
          27.400774002075195,
          -9.832701683044434,
          12.700570106506348
         ],
         "yaxis": "y"
        },
        {
         "hovertemplate": "color=dinning<br>x=%{x}<br>y=%{y}<extra></extra>",
         "legendgroup": "dinning",
         "marker": {
          "color": "#FFA15A",
          "symbol": "circle"
         },
         "mode": "markers",
         "name": "dinning",
         "orientation": "v",
         "showlegend": true,
         "textposition": "top center",
         "type": "scatter",
         "x": [
          46.06236267089844,
          48.27678298950195,
          43.53618621826172,
          41.19594192504883,
          43.52372741699219,
          46.93365478515625,
          44.826011657714844,
          45.31646728515625,
          47.84441375732422,
          43.1966552734375
         ],
         "xaxis": "x",
         "y": [
          5.963571548461914,
          11.216217041015625,
          6.874521732330322,
          8.644458770751953,
          8.83610725402832,
          10.418767929077148,
          4.282711505889893,
          8.923771858215332,
          5.488333702087402,
          10.913454055786133
         ],
         "yaxis": "y"
        },
        {
         "hovertemplate": "color=have<br>x=%{x}<br>y=%{y}<extra></extra>",
         "legendgroup": "have",
         "marker": {
          "color": "#19d3f3",
          "symbol": "circle"
         },
         "mode": "markers",
         "name": "have",
         "orientation": "v",
         "showlegend": true,
         "textposition": "top center",
         "type": "scatter",
         "x": [
          -23.650859832763672,
          -26.2888126373291,
          -24.381393432617188,
          -21.931583404541016,
          -24.546594619750977,
          -24.394847869873047,
          -25.401634216308594,
          0.6126232147216797,
          -22.016571044921875,
          -20.911170959472656
         ],
         "xaxis": "x",
         "y": [
          -17.203861236572266,
          -14.098979949951172,
          -19.22004508972168,
          -7.036898612976074,
          -9.417109489440918,
          -12.399694442749023,
          -20.397127151489258,
          -11.096175193786621,
          -16.162784576416016,
          -18.894561767578125
         ],
         "yaxis": "y"
        },
        {
         "hovertemplate": "color=turn<br>x=%{x}<br>y=%{y}<extra></extra>",
         "legendgroup": "turn",
         "marker": {
          "color": "#FF6692",
          "symbol": "circle"
         },
         "mode": "markers",
         "name": "turn",
         "orientation": "v",
         "showlegend": true,
         "textposition": "top center",
         "type": "scatter",
         "x": [
          -33.631832122802734,
          -34.66632843017578,
          -35.730995178222656,
          -31.721750259399414,
          -55.090049743652344,
          -29.958179473876953,
          -40.20810317993164,
          -55.77901840209961,
          -37.21495056152344,
          -41.63252258300781
         ],
         "xaxis": "x",
         "y": [
          17.23139762878418,
          17.003618240356445,
          18.38410758972168,
          17.945615768432617,
          3.6185925006866455,
          18.715499877929688,
          24.99755859375,
          1.729560375213623,
          1.0175114870071411,
          24.402164459228516
         ],
         "yaxis": "y"
        }
       ],
       "layout": {
        "legend": {
         "title": {
          "text": "color"
         },
         "tracegroupgap": 0
        },
        "margin": {
         "t": 60
        },
        "template": {
         "data": {
          "bar": [
           {
            "error_x": {
             "color": "#2a3f5f"
            },
            "error_y": {
             "color": "#2a3f5f"
            },
            "marker": {
             "line": {
              "color": "white",
              "width": 0.5
             }
            },
            "type": "bar"
           }
          ],
          "barpolar": [
           {
            "marker": {
             "line": {
              "color": "white",
              "width": 0.5
             }
            },
            "type": "barpolar"
           }
          ],
          "carpet": [
           {
            "aaxis": {
             "endlinecolor": "#2a3f5f",
             "gridcolor": "#C8D4E3",
             "linecolor": "#C8D4E3",
             "minorgridcolor": "#C8D4E3",
             "startlinecolor": "#2a3f5f"
            },
            "baxis": {
             "endlinecolor": "#2a3f5f",
             "gridcolor": "#C8D4E3",
             "linecolor": "#C8D4E3",
             "minorgridcolor": "#C8D4E3",
             "startlinecolor": "#2a3f5f"
            },
            "type": "carpet"
           }
          ],
          "choropleth": [
           {
            "colorbar": {
             "outlinewidth": 0,
             "ticks": ""
            },
            "type": "choropleth"
           }
          ],
          "contour": [
           {
            "colorbar": {
             "outlinewidth": 0,
             "ticks": ""
            },
            "colorscale": [
             [
              0,
              "#0d0887"
             ],
             [
              0.1111111111111111,
              "#46039f"
             ],
             [
              0.2222222222222222,
              "#7201a8"
             ],
             [
              0.3333333333333333,
              "#9c179e"
             ],
             [
              0.4444444444444444,
              "#bd3786"
             ],
             [
              0.5555555555555556,
              "#d8576b"
             ],
             [
              0.6666666666666666,
              "#ed7953"
             ],
             [
              0.7777777777777778,
              "#fb9f3a"
             ],
             [
              0.8888888888888888,
              "#fdca26"
             ],
             [
              1,
              "#f0f921"
             ]
            ],
            "type": "contour"
           }
          ],
          "contourcarpet": [
           {
            "colorbar": {
             "outlinewidth": 0,
             "ticks": ""
            },
            "type": "contourcarpet"
           }
          ],
          "heatmap": [
           {
            "colorbar": {
             "outlinewidth": 0,
             "ticks": ""
            },
            "colorscale": [
             [
              0,
              "#0d0887"
             ],
             [
              0.1111111111111111,
              "#46039f"
             ],
             [
              0.2222222222222222,
              "#7201a8"
             ],
             [
              0.3333333333333333,
              "#9c179e"
             ],
             [
              0.4444444444444444,
              "#bd3786"
             ],
             [
              0.5555555555555556,
              "#d8576b"
             ],
             [
              0.6666666666666666,
              "#ed7953"
             ],
             [
              0.7777777777777778,
              "#fb9f3a"
             ],
             [
              0.8888888888888888,
              "#fdca26"
             ],
             [
              1,
              "#f0f921"
             ]
            ],
            "type": "heatmap"
           }
          ],
          "heatmapgl": [
           {
            "colorbar": {
             "outlinewidth": 0,
             "ticks": ""
            },
            "colorscale": [
             [
              0,
              "#0d0887"
             ],
             [
              0.1111111111111111,
              "#46039f"
             ],
             [
              0.2222222222222222,
              "#7201a8"
             ],
             [
              0.3333333333333333,
              "#9c179e"
             ],
             [
              0.4444444444444444,
              "#bd3786"
             ],
             [
              0.5555555555555556,
              "#d8576b"
             ],
             [
              0.6666666666666666,
              "#ed7953"
             ],
             [
              0.7777777777777778,
              "#fb9f3a"
             ],
             [
              0.8888888888888888,
              "#fdca26"
             ],
             [
              1,
              "#f0f921"
             ]
            ],
            "type": "heatmapgl"
           }
          ],
          "histogram": [
           {
            "marker": {
             "colorbar": {
              "outlinewidth": 0,
              "ticks": ""
             }
            },
            "type": "histogram"
           }
          ],
          "histogram2d": [
           {
            "colorbar": {
             "outlinewidth": 0,
             "ticks": ""
            },
            "colorscale": [
             [
              0,
              "#0d0887"
             ],
             [
              0.1111111111111111,
              "#46039f"
             ],
             [
              0.2222222222222222,
              "#7201a8"
             ],
             [
              0.3333333333333333,
              "#9c179e"
             ],
             [
              0.4444444444444444,
              "#bd3786"
             ],
             [
              0.5555555555555556,
              "#d8576b"
             ],
             [
              0.6666666666666666,
              "#ed7953"
             ],
             [
              0.7777777777777778,
              "#fb9f3a"
             ],
             [
              0.8888888888888888,
              "#fdca26"
             ],
             [
              1,
              "#f0f921"
             ]
            ],
            "type": "histogram2d"
           }
          ],
          "histogram2dcontour": [
           {
            "colorbar": {
             "outlinewidth": 0,
             "ticks": ""
            },
            "colorscale": [
             [
              0,
              "#0d0887"
             ],
             [
              0.1111111111111111,
              "#46039f"
             ],
             [
              0.2222222222222222,
              "#7201a8"
             ],
             [
              0.3333333333333333,
              "#9c179e"
             ],
             [
              0.4444444444444444,
              "#bd3786"
             ],
             [
              0.5555555555555556,
              "#d8576b"
             ],
             [
              0.6666666666666666,
              "#ed7953"
             ],
             [
              0.7777777777777778,
              "#fb9f3a"
             ],
             [
              0.8888888888888888,
              "#fdca26"
             ],
             [
              1,
              "#f0f921"
             ]
            ],
            "type": "histogram2dcontour"
           }
          ],
          "mesh3d": [
           {
            "colorbar": {
             "outlinewidth": 0,
             "ticks": ""
            },
            "type": "mesh3d"
           }
          ],
          "parcoords": [
           {
            "line": {
             "colorbar": {
              "outlinewidth": 0,
              "ticks": ""
             }
            },
            "type": "parcoords"
           }
          ],
          "pie": [
           {
            "automargin": true,
            "type": "pie"
           }
          ],
          "scatter": [
           {
            "marker": {
             "colorbar": {
              "outlinewidth": 0,
              "ticks": ""
             }
            },
            "type": "scatter"
           }
          ],
          "scatter3d": [
           {
            "line": {
             "colorbar": {
              "outlinewidth": 0,
              "ticks": ""
             }
            },
            "marker": {
             "colorbar": {
              "outlinewidth": 0,
              "ticks": ""
             }
            },
            "type": "scatter3d"
           }
          ],
          "scattercarpet": [
           {
            "marker": {
             "colorbar": {
              "outlinewidth": 0,
              "ticks": ""
             }
            },
            "type": "scattercarpet"
           }
          ],
          "scattergeo": [
           {
            "marker": {
             "colorbar": {
              "outlinewidth": 0,
              "ticks": ""
             }
            },
            "type": "scattergeo"
           }
          ],
          "scattergl": [
           {
            "marker": {
             "colorbar": {
              "outlinewidth": 0,
              "ticks": ""
             }
            },
            "type": "scattergl"
           }
          ],
          "scattermapbox": [
           {
            "marker": {
             "colorbar": {
              "outlinewidth": 0,
              "ticks": ""
             }
            },
            "type": "scattermapbox"
           }
          ],
          "scatterpolar": [
           {
            "marker": {
             "colorbar": {
              "outlinewidth": 0,
              "ticks": ""
             }
            },
            "type": "scatterpolar"
           }
          ],
          "scatterpolargl": [
           {
            "marker": {
             "colorbar": {
              "outlinewidth": 0,
              "ticks": ""
             }
            },
            "type": "scatterpolargl"
           }
          ],
          "scatterternary": [
           {
            "marker": {
             "colorbar": {
              "outlinewidth": 0,
              "ticks": ""
             }
            },
            "type": "scatterternary"
           }
          ],
          "surface": [
           {
            "colorbar": {
             "outlinewidth": 0,
             "ticks": ""
            },
            "colorscale": [
             [
              0,
              "#0d0887"
             ],
             [
              0.1111111111111111,
              "#46039f"
             ],
             [
              0.2222222222222222,
              "#7201a8"
             ],
             [
              0.3333333333333333,
              "#9c179e"
             ],
             [
              0.4444444444444444,
              "#bd3786"
             ],
             [
              0.5555555555555556,
              "#d8576b"
             ],
             [
              0.6666666666666666,
              "#ed7953"
             ],
             [
              0.7777777777777778,
              "#fb9f3a"
             ],
             [
              0.8888888888888888,
              "#fdca26"
             ],
             [
              1,
              "#f0f921"
             ]
            ],
            "type": "surface"
           }
          ],
          "table": [
           {
            "cells": {
             "fill": {
              "color": "#EBF0F8"
             },
             "line": {
              "color": "white"
             }
            },
            "header": {
             "fill": {
              "color": "#C8D4E3"
             },
             "line": {
              "color": "white"
             }
            },
            "type": "table"
           }
          ]
         },
         "layout": {
          "annotationdefaults": {
           "arrowcolor": "#2a3f5f",
           "arrowhead": 0,
           "arrowwidth": 1
          },
          "coloraxis": {
           "colorbar": {
            "outlinewidth": 0,
            "ticks": ""
           }
          },
          "colorscale": {
           "diverging": [
            [
             0,
             "#8e0152"
            ],
            [
             0.1,
             "#c51b7d"
            ],
            [
             0.2,
             "#de77ae"
            ],
            [
             0.3,
             "#f1b6da"
            ],
            [
             0.4,
             "#fde0ef"
            ],
            [
             0.5,
             "#f7f7f7"
            ],
            [
             0.6,
             "#e6f5d0"
            ],
            [
             0.7,
             "#b8e186"
            ],
            [
             0.8,
             "#7fbc41"
            ],
            [
             0.9,
             "#4d9221"
            ],
            [
             1,
             "#276419"
            ]
           ],
           "sequential": [
            [
             0,
             "#0d0887"
            ],
            [
             0.1111111111111111,
             "#46039f"
            ],
            [
             0.2222222222222222,
             "#7201a8"
            ],
            [
             0.3333333333333333,
             "#9c179e"
            ],
            [
             0.4444444444444444,
             "#bd3786"
            ],
            [
             0.5555555555555556,
             "#d8576b"
            ],
            [
             0.6666666666666666,
             "#ed7953"
            ],
            [
             0.7777777777777778,
             "#fb9f3a"
            ],
            [
             0.8888888888888888,
             "#fdca26"
            ],
            [
             1,
             "#f0f921"
            ]
           ],
           "sequentialminus": [
            [
             0,
             "#0d0887"
            ],
            [
             0.1111111111111111,
             "#46039f"
            ],
            [
             0.2222222222222222,
             "#7201a8"
            ],
            [
             0.3333333333333333,
             "#9c179e"
            ],
            [
             0.4444444444444444,
             "#bd3786"
            ],
            [
             0.5555555555555556,
             "#d8576b"
            ],
            [
             0.6666666666666666,
             "#ed7953"
            ],
            [
             0.7777777777777778,
             "#fb9f3a"
            ],
            [
             0.8888888888888888,
             "#fdca26"
            ],
            [
             1,
             "#f0f921"
            ]
           ]
          },
          "colorway": [
           "#636efa",
           "#EF553B",
           "#00cc96",
           "#ab63fa",
           "#FFA15A",
           "#19d3f3",
           "#FF6692",
           "#B6E880",
           "#FF97FF",
           "#FECB52"
          ],
          "font": {
           "color": "#2a3f5f"
          },
          "geo": {
           "bgcolor": "white",
           "lakecolor": "white",
           "landcolor": "white",
           "showlakes": true,
           "showland": true,
           "subunitcolor": "#C8D4E3"
          },
          "hoverlabel": {
           "align": "left"
          },
          "hovermode": "closest",
          "mapbox": {
           "style": "light"
          },
          "paper_bgcolor": "white",
          "plot_bgcolor": "white",
          "polar": {
           "angularaxis": {
            "gridcolor": "#EBF0F8",
            "linecolor": "#EBF0F8",
            "ticks": ""
           },
           "bgcolor": "white",
           "radialaxis": {
            "gridcolor": "#EBF0F8",
            "linecolor": "#EBF0F8",
            "ticks": ""
           }
          },
          "scene": {
           "xaxis": {
            "backgroundcolor": "white",
            "gridcolor": "#DFE8F3",
            "gridwidth": 2,
            "linecolor": "#EBF0F8",
            "showbackground": true,
            "ticks": "",
            "zerolinecolor": "#EBF0F8"
           },
           "yaxis": {
            "backgroundcolor": "white",
            "gridcolor": "#DFE8F3",
            "gridwidth": 2,
            "linecolor": "#EBF0F8",
            "showbackground": true,
            "ticks": "",
            "zerolinecolor": "#EBF0F8"
           },
           "zaxis": {
            "backgroundcolor": "white",
            "gridcolor": "#DFE8F3",
            "gridwidth": 2,
            "linecolor": "#EBF0F8",
            "showbackground": true,
            "ticks": "",
            "zerolinecolor": "#EBF0F8"
           }
          },
          "shapedefaults": {
           "line": {
            "color": "#2a3f5f"
           }
          },
          "ternary": {
           "aaxis": {
            "gridcolor": "#DFE8F3",
            "linecolor": "#A2B1C6",
            "ticks": ""
           },
           "baxis": {
            "gridcolor": "#DFE8F3",
            "linecolor": "#A2B1C6",
            "ticks": ""
           },
           "bgcolor": "white",
           "caxis": {
            "gridcolor": "#DFE8F3",
            "linecolor": "#A2B1C6",
            "ticks": ""
           }
          },
          "title": {
           "x": 0.05
          },
          "xaxis": {
           "automargin": true,
           "gridcolor": "#EBF0F8",
           "linecolor": "#EBF0F8",
           "ticks": "",
           "title": {
            "standoff": 15
           },
           "zerolinecolor": "#EBF0F8",
           "zerolinewidth": 2
          },
          "yaxis": {
           "automargin": true,
           "gridcolor": "#EBF0F8",
           "linecolor": "#EBF0F8",
           "ticks": "",
           "title": {
            "standoff": 15
           },
           "zerolinecolor": "#EBF0F8",
           "zerolinewidth": 2
          }
         }
        },
        "xaxis": {
         "anchor": "y",
         "domain": [
          0,
          1
         ],
         "title": {
          "text": "x"
         }
        },
        "yaxis": {
         "anchor": "x",
         "domain": [
          0,
          1
         ],
         "title": {
          "text": "y"
         }
        }
       }
      },
      "text/html": [
       "<div>                            <div id=\"5f7038c4-8da0-4015-a696-7f07ae7d025c\" class=\"plotly-graph-div\" style=\"height:525px; width:100%;\"></div>            <script type=\"text/javascript\">                require([\"plotly\"], function(Plotly) {                    window.PLOTLYENV=window.PLOTLYENV || {};                                    if (document.getElementById(\"5f7038c4-8da0-4015-a696-7f07ae7d025c\")) {                    Plotly.newPlot(                        \"5f7038c4-8da0-4015-a696-7f07ae7d025c\",                        [{\"hovertemplate\": \"color=was<br>x=%{x}<br>y=%{y}<extra></extra>\", \"legendgroup\": \"was\", \"marker\": {\"color\": \"#636efa\", \"symbol\": \"circle\"}, \"mode\": \"markers\", \"name\": \"was\", \"orientation\": \"v\", \"showlegend\": true, \"textposition\": \"top center\", \"type\": \"scatter\", \"x\": [-17.90746307373047, -25.602977752685547, -17.73013687133789, -13.594075202941895, -25.167438507080078, -27.924488067626953, -22.186349868774414, -17.093997955322266, -25.334712982177734, -42.915802001953125], \"xaxis\": \"x\", \"y\": [-7.5258612632751465, -14.384309768676758, -9.440831184387207, -56.32487869262695, 12.082770347595215, -11.996901512145996, -44.99905776977539, -58.90544509887695, -9.30112361907959, 13.667988777160645], \"yaxis\": \"y\"}, {\"hovertemplate\": \"color=go<br>x=%{x}<br>y=%{y}<extra></extra>\", \"legendgroup\": \"go\", \"marker\": {\"color\": \"#EF553B\", \"symbol\": \"circle\"}, \"mode\": \"markers\", \"name\": \"go\", \"orientation\": \"v\", \"showlegend\": true, \"textposition\": \"top center\", \"type\": \"scatter\", \"x\": [-45.84673309326172, -45.582576751708984, -38.11759567260742, -9.999077796936035, -45.78805160522461, -41.14411163330078, -4.7740373611450195, -19.606338500976562, -67.3687515258789, -39.96864700317383], \"xaxis\": \"x\", \"y\": [7.679464817047119, 2.7742421627044678, 9.909479141235352, -28.597646713256836, -8.608717918395996, 12.470593452453613, -28.678403854370117, -26.868785858154297, -3.889061450958252, 4.4640092849731445], \"yaxis\": \"y\"}, {\"hovertemplate\": \"color=get<br>x=%{x}<br>y=%{y}<extra></extra>\", \"legendgroup\": \"get\", \"marker\": {\"color\": \"#00cc96\", \"symbol\": \"circle\"}, \"mode\": \"markers\", \"name\": \"get\", \"orientation\": \"v\", \"showlegend\": true, \"textposition\": \"top center\", \"type\": \"scatter\", \"x\": [-45.5523796081543, -49.2346305847168, -48.129032135009766, -50.76305389404297, -43.41421127319336, -41.11964797973633, -45.73222351074219, -46.540157318115234, -44.5284309387207, -42.58086395263672], \"xaxis\": \"x\", \"y\": [-6.597734451293945, -8.327369689941406, -5.098011493682861, -9.420206069946289, -7.184227466583252, 2.1256964206695557, 9.080317497253418, 39.452919006347656, 23.159194946289062, -11.400087356567383], \"yaxis\": \"y\"}, {\"hovertemplate\": \"color=see<br>x=%{x}<br>y=%{y}<extra></extra>\", \"legendgroup\": \"see\", \"marker\": {\"color\": \"#ab63fa\", \"symbol\": \"circle\"}, \"mode\": \"markers\", \"name\": \"see\", \"orientation\": \"v\", \"showlegend\": true, \"textposition\": \"top center\", \"type\": \"scatter\", \"x\": [-10.202333450317383, -18.024778366088867, 4.062082290649414, -8.585284233093262, 18.06745719909668, -37.76557540893555, -8.835066795349121, -4.367918014526367, -4.84650993347168, 8.416015625], \"xaxis\": \"x\", \"y\": [-43.132423400878906, -39.51530075073242, -53.64090347290039, -59.346458435058594, -49.47444534301758, -30.807435989379883, -38.56638717651367, -37.15361022949219, -44.643959045410156, -55.26531219482422], \"yaxis\": \"y\"}, {\"hovertemplate\": \"color=tell<br>x=%{x}<br>y=%{y}<extra></extra>\", \"legendgroup\": \"tell\", \"marker\": {\"color\": \"#FFA15A\", \"symbol\": \"circle\"}, \"mode\": \"markers\", \"name\": \"tell\", \"orientation\": \"v\", \"showlegend\": true, \"textposition\": \"top center\", \"type\": \"scatter\", \"x\": [4.2995076179504395, 22.51390266418457, 19.547809600830078, 19.21078109741211, 16.032060623168945, 8.341181755065918, 22.69532012939453, -6.886610984802246, 28.696680068969727, 11.880864143371582], \"xaxis\": \"x\", \"y\": [-50.817466735839844, -49.86909103393555, -53.287818908691406, -28.868520736694336, -48.04090118408203, -69.27647399902344, -47.45363998413086, -41.64894104003906, -51.994361877441406, -52.601444244384766], \"yaxis\": \"y\"}, {\"hovertemplate\": \"color=come<br>x=%{x}<br>y=%{y}<extra></extra>\", \"legendgroup\": \"come\", \"marker\": {\"color\": \"#19d3f3\", \"symbol\": \"circle\"}, \"mode\": \"markers\", \"name\": \"come\", \"orientation\": \"v\", \"showlegend\": true, \"textposition\": \"top center\", \"type\": \"scatter\", \"x\": [-43.79149627685547, -42.32823181152344, -43.85588836669922, -43.290985107421875, -47.014549255371094, -46.003395080566406, -37.84726333618164, 0.34029874205589294, -53.662437438964844, -46.784400939941406], \"xaxis\": \"x\", \"y\": [8.149600982666016, 1.856052041053772, 22.05401039123535, 12.944771766662598, -8.081366539001465, 17.20052146911621, 10.62608528137207, -24.819881439208984, 15.482418060302734, 3.618351697921753], \"yaxis\": \"y\"}, {\"hovertemplate\": \"color=take<br>x=%{x}<br>y=%{y}<extra></extra>\", \"legendgroup\": \"take\", \"marker\": {\"color\": \"#FF6692\", \"symbol\": \"circle\"}, \"mode\": \"markers\", \"name\": \"take\", \"orientation\": \"v\", \"showlegend\": true, \"textposition\": \"top center\", \"type\": \"scatter\", \"x\": [-56.08928680419922, -54.47306442260742, -55.894256591796875, -55.285343170166016, -58.68838882446289, -45.42475509643555, -60.01573181152344, -5.726337432861328, -41.99625015258789, -59.32237243652344], \"xaxis\": \"x\", \"y\": [28.347414016723633, 27.589757919311523, 25.095375061035156, 29.753307342529297, 28.392271041870117, 39.29874038696289, 27.734607696533203, 9.545700073242188, 3.0042428970336914, 34.4677619934082], \"yaxis\": \"y\"}, {\"hovertemplate\": \"color=think<br>x=%{x}<br>y=%{y}<extra></extra>\", \"legendgroup\": \"think\", \"marker\": {\"color\": \"#B6E880\", \"symbol\": \"circle\"}, \"mode\": \"markers\", \"name\": \"think\", \"orientation\": \"v\", \"showlegend\": true, \"textposition\": \"top center\", \"type\": \"scatter\", \"x\": [6.666835308074951, -5.213647842407227, -7.432724952697754, -17.406095504760742, -10.918583869934082, -16.932008743286133, -11.163558959960938, -12.053794860839844, 3.3775641918182373, -13.786603927612305], \"xaxis\": \"x\", \"y\": [-52.96033477783203, -53.599884033203125, -54.27254867553711, -65.70308685302734, -57.30680847167969, -62.703041076660156, -51.88933181762695, -53.64691162109375, -65.65255737304688, -63.24470901489258], \"yaxis\": \"y\"}, {\"hovertemplate\": \"color=find<br>x=%{x}<br>y=%{y}<extra></extra>\", \"legendgroup\": \"find\", \"marker\": {\"color\": \"#FF97FF\", \"symbol\": \"circle\"}, \"mode\": \"markers\", \"name\": \"find\", \"orientation\": \"v\", \"showlegend\": true, \"textposition\": \"top center\", \"type\": \"scatter\", \"x\": [-37.550228118896484, -40.857398986816406, -40.1097412109375, -44.820377349853516, -33.520790100097656, -34.851932525634766, -36.350006103515625, -36.91722869873047, -8.054445266723633, -40.9754638671875], \"xaxis\": \"x\", \"y\": [-34.02590560913086, -27.68785285949707, -25.552127838134766, -33.24883270263672, -25.052858352661133, -31.306930541992188, -28.568161010742188, -35.30771255493164, -42.24303436279297, -36.27392578125], \"yaxis\": \"y\"}, {\"hovertemplate\": \"color=keep<br>x=%{x}<br>y=%{y}<extra></extra>\", \"legendgroup\": \"keep\", \"marker\": {\"color\": \"#FECB52\", \"symbol\": \"circle\"}, \"mode\": \"markers\", \"name\": \"keep\", \"orientation\": \"v\", \"showlegend\": true, \"textposition\": \"top center\", \"type\": \"scatter\", \"x\": [-72.6050796508789, -72.2593002319336, -75.4413833618164, -67.3687515258789, -74.99462890625, -78.22891235351562, -68.91561126708984, -81.02143096923828, -66.95217895507812, -2.655533790588379], \"xaxis\": \"x\", \"y\": [-0.6560267210006714, 2.0428009033203125, -1.8937369585037231, -3.889061450958252, 4.491377353668213, 7.558300018310547, 12.488381385803223, 0.9306395649909973, -7.452489852905273, 8.328873634338379], \"yaxis\": \"y\"}, {\"hovertemplate\": \"color=happen<br>x=%{x}<br>y=%{y}<extra></extra>\", \"legendgroup\": \"happen\", \"marker\": {\"color\": \"#636efa\", \"symbol\": \"circle\"}, \"mode\": \"markers\", \"name\": \"happen\", \"orientation\": \"v\", \"showlegend\": true, \"textposition\": \"top center\", \"type\": \"scatter\", \"x\": [-0.28782662749290466, 0.1584533303976059, 2.539095878601074, 2.97173810005188, 13.620360374450684, -4.992349624633789, 5.14644193649292, 5.547396659851074, 12.609292030334473, -47.04325866699219], \"xaxis\": \"x\", \"y\": [-25.791574478149414, -22.899965286254883, -26.712182998657227, -25.628341674804688, -4.7452192306518555, -30.49695587158203, -2.6143627166748047, 1.1165258884429932, -3.364614486694336, 9.190515518188477], \"yaxis\": \"y\"}, {\"hovertemplate\": \"color=hear<br>x=%{x}<br>y=%{y}<extra></extra>\", \"legendgroup\": \"hear\", \"marker\": {\"color\": \"#EF553B\", \"symbol\": \"circle\"}, \"mode\": \"markers\", \"name\": \"hear\", \"orientation\": \"v\", \"showlegend\": true, \"textposition\": \"top center\", \"type\": \"scatter\", \"x\": [22.423582077026367, 21.083288192749023, 27.547945022583008, 25.938364028930664, 20.17336654663086, 7.756442070007324, 27.571334838867188, -8.797835350036621, 6.083151817321777, 7.2344794273376465], \"xaxis\": \"x\", \"y\": [-17.96468162536621, -18.908035278320312, -18.850461959838867, -18.251556396484375, -50.87065505981445, -9.998495101928711, -17.88030242919922, -41.10696792602539, -0.5501622557640076, -3.737934112548828], \"yaxis\": \"y\"}, {\"hovertemplate\": \"color=remember<br>x=%{x}<br>y=%{y}<extra></extra>\", \"legendgroup\": \"remember\", \"marker\": {\"color\": \"#00cc96\", \"symbol\": \"circle\"}, \"mode\": \"markers\", \"name\": \"remember\", \"orientation\": \"v\", \"showlegend\": true, \"textposition\": \"top center\", \"type\": \"scatter\", \"x\": [21.175222396850586, 33.201541900634766, 34.495662689208984, 36.942604064941406, 5.598398685455322, 27.103546142578125, 35.63387680053711, 28.696680068969727, 18.58649444580078, 29.850610733032227], \"xaxis\": \"x\", \"y\": [-61.0870361328125, -38.06734085083008, -38.87828826904297, -40.45460510253906, -54.09885787963867, -33.49836730957031, -39.5932731628418, -51.994361877441406, -50.78950500488281, -50.49431228637695], \"yaxis\": \"y\"}, {\"hovertemplate\": \"color=say<br>x=%{x}<br>y=%{y}<extra></extra>\", \"legendgroup\": \"say\", \"marker\": {\"color\": \"#ab63fa\", \"symbol\": \"circle\"}, \"mode\": \"markers\", \"name\": \"say\", \"orientation\": \"v\", \"showlegend\": true, \"textposition\": \"top center\", \"type\": \"scatter\", \"x\": [3.3775641918182373, 4.704766273498535, 7.184437274932861, 19.97368812561035, 7.450247764587402, -7.577054977416992, 7.980833053588867, 11.160815238952637, 12.14436149597168, 3.9791007041931152], \"xaxis\": \"x\", \"y\": [-65.65255737304688, -73.17471313476562, -51.495731353759766, -49.23908233642578, -72.27803039550781, -60.29580307006836, -66.72016143798828, -63.85626983642578, -66.20304870605469, -69.4888916015625], \"yaxis\": \"y\"}, {\"hovertemplate\": \"color=feel<br>x=%{x}<br>y=%{y}<extra></extra>\", \"legendgroup\": \"feel\", \"marker\": {\"color\": \"#FFA15A\", \"symbol\": \"circle\"}, \"mode\": \"markers\", \"name\": \"feel\", \"orientation\": \"v\", \"showlegend\": true, \"textposition\": \"top center\", \"type\": \"scatter\", \"x\": [-24.70787239074707, -23.396392822265625, -23.638668060302734, -7.945533275604248, 5.800732612609863, -17.406095504760742, -26.4234561920166, 3.7589070796966553, 0.8075743913650513, 19.268646240234375], \"xaxis\": \"x\", \"y\": [-51.58540344238281, -51.34080505371094, -49.920101165771484, -58.122169494628906, -50.900611877441406, -65.70308685302734, -52.202571868896484, 6.902064800262451, -7.274416923522949, -11.41958999633789], \"yaxis\": \"y\"}, {\"hovertemplate\": \"color=ask<br>x=%{x}<br>y=%{y}<extra></extra>\", \"legendgroup\": \"ask\", \"marker\": {\"color\": \"#19d3f3\", \"symbol\": \"circle\"}, \"mode\": \"markers\", \"name\": \"ask\", \"orientation\": \"v\", \"showlegend\": true, \"textposition\": \"top center\", \"type\": \"scatter\", \"x\": [19.246829986572266, 20.797128677368164, 21.583267211914062, 18.84344482421875, 18.431846618652344, 5.1812543869018555, 5.725637435913086, 3.614305019378662, 17.82485580444336, 15.771940231323242], \"xaxis\": \"x\", \"y\": [-27.70407485961914, -28.48526382446289, -26.670469284057617, -48.06588363647461, -30.9396915435791, -52.35858917236328, -12.59180736541748, -0.8008856773376465, -26.417644500732422, -8.173029899597168], \"yaxis\": \"y\"}, {\"hovertemplate\": \"color=use<br>x=%{x}<br>y=%{y}<extra></extra>\", \"legendgroup\": \"use\", \"marker\": {\"color\": \"#FF6692\", \"symbol\": \"circle\"}, \"mode\": \"markers\", \"name\": \"use\", \"orientation\": \"v\", \"showlegend\": true, \"textposition\": \"top center\", \"type\": \"scatter\", \"x\": [-12.129959106445312, -15.766383171081543, -11.973669052124023, -10.144632339477539, -15.566009521484375, -7.276227951049805, -11.96837043762207, -14.293289184570312, -14.447709083557129, -13.843599319458008], \"xaxis\": \"x\", \"y\": [39.23226547241211, 40.2623291015625, 40.62994384765625, 40.002830505371094, 35.593162536621094, 36.39106750488281, 37.361228942871094, 34.93675231933594, 39.426025390625, 41.605499267578125], \"yaxis\": \"y\"}, {\"hovertemplate\": \"color=offended<br>x=%{x}<br>y=%{y}<extra></extra>\", \"legendgroup\": \"offended\", \"marker\": {\"color\": \"#B6E880\", \"symbol\": \"circle\"}, \"mode\": \"markers\", \"name\": \"offended\", \"orientation\": \"v\", \"showlegend\": true, \"textposition\": \"top center\", \"type\": \"scatter\", \"x\": [52.46510314941406, 39.13701248168945, 56.28644561767578, 58.84306335449219, 55.217708587646484, 54.780818939208984, 51.126590728759766, 38.576480865478516, 52.89247131347656, 59.74708557128906], \"xaxis\": \"x\", \"y\": [-17.793128967285156, -18.99452781677246, -18.834184646606445, -17.08490753173828, -12.342442512512207, -14.692776679992676, -18.35340690612793, -18.323108673095703, -14.50938892364502, -18.168594360351562], \"yaxis\": \"y\"}, {\"hovertemplate\": \"color=know<br>x=%{x}<br>y=%{y}<extra></extra>\", \"legendgroup\": \"know\", \"marker\": {\"color\": \"#FF97FF\", \"symbol\": \"circle\"}, \"mode\": \"markers\", \"name\": \"know\", \"orientation\": \"v\", \"showlegend\": true, \"textposition\": \"top center\", \"type\": \"scatter\", \"x\": [19.97368812561035, -6.387909889221191, -3.9074671268463135, 10.057638168334961, -5.572169780731201, 14.43210220336914, -0.10340161621570587, 1.1464887857437134, 9.546581268310547, 1.9599453210830688], \"xaxis\": \"x\", \"y\": [-49.23908233642578, -59.58185958862305, -29.687055587768555, -53.02067184448242, -52.866363525390625, -4.319398880004883, -55.34973907470703, -4.966423988342285, -68.93040466308594, -49.32579040527344], \"yaxis\": \"y\"}, {\"hovertemplate\": \"color=speak<br>x=%{x}<br>y=%{y}<extra></extra>\", \"legendgroup\": \"speak\", \"marker\": {\"color\": \"#FECB52\", \"symbol\": \"circle\"}, \"mode\": \"markers\", \"name\": \"speak\", \"orientation\": \"v\", \"showlegend\": true, \"textposition\": \"top center\", \"type\": \"scatter\", \"x\": [34.33733367919922, 33.807220458984375, 36.01213073730469, 32.425262451171875, 17.452476501464844, 19.71040153503418, 3.704944133758545, 15.925397872924805, 19.1820125579834, 8.431746482849121], \"xaxis\": \"x\", \"y\": [-26.642393112182617, -27.430622100830078, -27.483808517456055, -27.460330963134766, -38.47056579589844, -36.93404769897461, -8.430810928344727, -38.99267578125, -45.00478744506836, -11.650461196899414], \"yaxis\": \"y\"}, {\"hovertemplate\": \"color=ill<br>x=%{x}<br>y=%{y}<extra></extra>\", \"legendgroup\": \"ill\", \"marker\": {\"color\": \"#636efa\", \"symbol\": \"circle\"}, \"mode\": \"markers\", \"name\": \"ill\", \"orientation\": \"v\", \"showlegend\": true, \"textposition\": \"top center\", \"type\": \"scatter\", \"x\": [22.62158966064453, 22.83143424987793, 23.741966247558594, 23.196718215942383, 23.91741180419922, 20.199687957763672, 27.18349838256836, 24.355619430541992, 19.074609756469727, 18.595239639282227], \"xaxis\": \"x\", \"y\": [16.20911979675293, 18.320087432861328, 12.270195007324219, 19.598997116088867, 11.410758972167969, 15.70371150970459, 14.261042594909668, 16.726760864257812, 13.853955268859863, 15.77274227142334], \"yaxis\": \"y\"}, {\"hovertemplate\": \"color=like<br>x=%{x}<br>y=%{y}<extra></extra>\", \"legendgroup\": \"like\", \"marker\": {\"color\": \"#EF553B\", \"symbol\": \"circle\"}, \"mode\": \"markers\", \"name\": \"like\", \"orientation\": \"v\", \"showlegend\": true, \"textposition\": \"top center\", \"type\": \"scatter\", \"x\": [-18.695785522460938, 14.614316940307617, 15.057745933532715, -16.57720375061035, -10.547259330749512, 9.66156005859375, -7.145574569702148, 8.693124771118164, -13.57286548614502, 12.771657943725586], \"xaxis\": \"x\", \"y\": [-66.54122161865234, -13.980676651000977, -14.748530387878418, -68.23214721679688, -52.36927795410156, -7.091427803039551, -31.809240341186523, -5.7754950523376465, -64.08039093017578, -10.06285285949707], \"yaxis\": \"y\"}, {\"hovertemplate\": \"color=help<br>x=%{x}<br>y=%{y}<extra></extra>\", \"legendgroup\": \"help\", \"marker\": {\"color\": \"#00cc96\", \"symbol\": \"circle\"}, \"mode\": \"markers\", \"name\": \"help\", \"orientation\": \"v\", \"showlegend\": true, \"textposition\": \"top center\", \"type\": \"scatter\", \"x\": [-28.248428344726562, -30.866647720336914, -26.52362060546875, -13.961736679077148, 1.514803171157837, -28.8182430267334, -27.313894271850586, -27.610435485839844, 1.9902353286743164, 0.3391304314136505], \"xaxis\": \"x\", \"y\": [29.942764282226562, 32.57484817504883, 26.716552734375, 19.879549026489258, 5.927252769470215, 30.9791202545166, 28.143085479736328, 38.623531341552734, -33.0839729309082, 1.2146644592285156], \"yaxis\": \"y\"}, {\"hovertemplate\": \"color=belong<br>x=%{x}<br>y=%{y}<extra></extra>\", \"legendgroup\": \"belong\", \"marker\": {\"color\": \"#ab63fa\", \"symbol\": \"circle\"}, \"mode\": \"markers\", \"name\": \"belong\", \"orientation\": \"v\", \"showlegend\": true, \"textposition\": \"top center\", \"type\": \"scatter\", \"x\": [-3.9884111881256104, -3.2085018157958984, -2.057990789413452, -1.6216623783111572, 22.1915283203125, -2.757688045501709, -10.602029800415039, -9.423844337463379, -0.48109304904937744, -0.9986342191696167], \"xaxis\": \"x\", \"y\": [-14.474262237548828, -15.325685501098633, -16.16746711730957, -5.20782470703125, -7.215749263763428, -8.802809715270996, 9.832487106323242, 9.000457763671875, 48.56438446044922, 13.5848970413208], \"yaxis\": \"y\"}, {\"hovertemplate\": \"color=drink<br>x=%{x}<br>y=%{y}<extra></extra>\", \"legendgroup\": \"drink\", \"marker\": {\"color\": \"#FFA15A\", \"symbol\": \"circle\"}, \"mode\": \"markers\", \"name\": \"drink\", \"orientation\": \"v\", \"showlegend\": true, \"textposition\": \"top center\", \"type\": \"scatter\", \"x\": [51.86326599121094, 47.327239990234375, 54.96005630493164, 53.8195686340332, 51.17741012573242, 45.71022415161133, 48.769412994384766, 51.0389518737793, 48.95323944091797, 46.39969253540039], \"xaxis\": \"x\", \"y\": [27.810699462890625, 31.454612731933594, 27.340654373168945, 27.470487594604492, 30.55839729309082, 33.009483337402344, 31.99632453918457, 26.609872817993164, 28.13095474243164, 30.485721588134766], \"yaxis\": \"y\"}, {\"hovertemplate\": \"color=shrink<br>x=%{x}<br>y=%{y}<extra></extra>\", \"legendgroup\": \"shrink\", \"marker\": {\"color\": \"#19d3f3\", \"symbol\": \"circle\"}, \"mode\": \"markers\", \"name\": \"shrink\", \"orientation\": \"v\", \"showlegend\": true, \"textposition\": \"top center\", \"type\": \"scatter\", \"x\": [12.00778579711914, 13.789859771728516, 14.519647598266602, 15.535228729248047, 15.3380765914917, -10.45157241821289, 17.224512100219727, 7.365140914916992, 14.801319122314453, 14.2813138961792], \"xaxis\": \"x\", \"y\": [37.916404724121094, 37.67621612548828, 38.2783088684082, 32.96455764770508, 39.6885986328125, 17.96985626220703, 33.089054107666016, 11.796361923217773, 32.180809020996094, 29.385164260864258], \"yaxis\": \"y\"}, {\"hovertemplate\": \"color=end<br>x=%{x}<br>y=%{y}<extra></extra>\", \"legendgroup\": \"end\", \"marker\": {\"color\": \"#FF6692\", \"symbol\": \"circle\"}, \"mode\": \"markers\", \"name\": \"end\", \"orientation\": \"v\", \"showlegend\": true, \"textposition\": \"top center\", \"type\": \"scatter\", \"x\": [2.9526307582855225, 1.3288168907165527, 2.0930192470550537, 3.6035072803497314, 2.821477174758911, 4.478577613830566, 0.5258633494377136, 2.089607000350952, -2.685948133468628, 3.3576440811157227], \"xaxis\": \"x\", \"y\": [25.930017471313477, 25.092374801635742, 19.355438232421875, 26.48318099975586, 10.756553649902344, 11.931102752685547, 16.81856918334961, 20.952980041503906, 11.062637329101562, 17.386831283569336], \"yaxis\": \"y\"}, {\"hovertemplate\": \"color=advise<br>x=%{x}<br>y=%{y}<extra></extra>\", \"legendgroup\": \"advise\", \"marker\": {\"color\": \"#B6E880\", \"symbol\": \"circle\"}, \"mode\": \"markers\", \"name\": \"advise\", \"orientation\": \"v\", \"showlegend\": true, \"textposition\": \"top center\", \"type\": \"scatter\", \"x\": [11.878312110900879, 11.806509017944336, 13.702086448669434, 12.298127174377441, 8.718743324279785, 25.528093338012695, 25.28487777709961, 10.1598539352417, 11.741351127624512, 10.256250381469727], \"xaxis\": \"x\", \"y\": [-20.98427391052246, -21.871259689331055, -21.387422561645508, -33.284114837646484, -33.47075653076172, -55.544822692871094, -53.66876220703125, -17.376964569091797, -70.98295593261719, -24.405298233032227], \"yaxis\": \"y\"}, {\"hovertemplate\": \"color=manage<br>x=%{x}<br>y=%{y}<extra></extra>\", \"legendgroup\": \"manage\", \"marker\": {\"color\": \"#FF97FF\", \"symbol\": \"circle\"}, \"mode\": \"markers\", \"name\": \"manage\", \"orientation\": \"v\", \"showlegend\": true, \"textposition\": \"top center\", \"type\": \"scatter\", \"x\": [-12.112457275390625, -18.352014541625977, -13.470503807067871, -11.97365665435791, -13.973881721496582, -10.258979797363281, -17.274118423461914, -11.22201156616211, 2.0769567489624023, -18.877185821533203], \"xaxis\": \"x\", \"y\": [26.773969650268555, 27.646339416503906, 31.96196746826172, 24.67049789428711, 23.897899627685547, 23.501523971557617, 26.03635597229004, 19.780744552612305, 13.83064079284668, 28.919719696044922], \"yaxis\": \"y\"}, {\"hovertemplate\": \"color=put<br>x=%{x}<br>y=%{y}<extra></extra>\", \"legendgroup\": \"put\", \"marker\": {\"color\": \"#FECB52\", \"symbol\": \"circle\"}, \"mode\": \"markers\", \"name\": \"put\", \"orientation\": \"v\", \"showlegend\": true, \"textposition\": \"top center\", \"type\": \"scatter\", \"x\": [-54.47997283935547, -53.77518844604492, -57.193180084228516, -58.03267288208008, -52.86835479736328, -54.44959259033203, -45.12461471557617, -46.003395080566406, -48.36613464355469, -47.15617370605469], \"xaxis\": \"x\", \"y\": [15.768961906433105, 17.883089065551758, 15.870579719543457, 16.66680335998535, 13.571572303771973, 3.2219271659851074, 22.04983139038086, 17.20052146911621, 16.258073806762695, 7.835306167602539], \"yaxis\": \"y\"}, {\"hovertemplate\": \"color=right<br>x=%{x}<br>y=%{y}<extra></extra>\", \"legendgroup\": \"right\", \"marker\": {\"color\": \"#636efa\", \"symbol\": \"circle\"}, \"mode\": \"markers\", \"name\": \"right\", \"orientation\": \"v\", \"showlegend\": true, \"textposition\": \"top center\", \"type\": \"scatter\", \"x\": [-19.37472152709961, 1.9921324253082275, 18.570947647094727, 2.4806408882141113, 7.5972747802734375, 13.517110824584961, 1.6486860513687134, 5.6955766677856445, -19.832502365112305, 14.894075393676758], \"xaxis\": \"x\", \"y\": [-3.7230420112609863, -2.425060749053955, -4.325736045837402, 8.038985252380371, 7.057502269744873, 2.7273948192596436, 9.10777759552002, 6.535302639007568, -5.7281317710876465, 3.0549018383026123], \"yaxis\": \"y\"}, {\"hovertemplate\": \"color=allow<br>x=%{x}<br>y=%{y}<extra></extra>\", \"legendgroup\": \"allow\", \"marker\": {\"color\": \"#EF553B\", \"symbol\": \"circle\"}, \"mode\": \"markers\", \"name\": \"allow\", \"orientation\": \"v\", \"showlegend\": true, \"textposition\": \"top center\", \"type\": \"scatter\", \"x\": [-26.974693298339844, -29.98593521118164, -32.29151916503906, -30.695253372192383, -26.93421745300293, -29.133237838745117, -27.477567672729492, -31.385257720947266, -8.443897247314453, -23.45108413696289], \"xaxis\": \"x\", \"y\": [38.08365249633789, 41.257713317871094, 35.503360748291016, 42.48533630371094, 42.96318817138672, 37.743675231933594, 36.195499420166016, 36.587181091308594, -22.7869873046875, 41.525386810302734], \"yaxis\": \"y\"}, {\"hovertemplate\": \"color=catch<br>x=%{x}<br>y=%{y}<extra></extra>\", \"legendgroup\": \"catch\", \"marker\": {\"color\": \"#00cc96\", \"symbol\": \"circle\"}, \"mode\": \"markers\", \"name\": \"catch\", \"orientation\": \"v\", \"showlegend\": true, \"textposition\": \"top center\", \"type\": \"scatter\", \"x\": [25.218992233276367, 25.611679077148438, 27.64521026611328, 23.86048698425293, -47.463993072509766, 10.226433753967285, -47.2025146484375, 15.453973770141602, -47.179664611816406, 13.95972728729248], \"xaxis\": \"x\", \"y\": [38.81440353393555, 39.61916732788086, 39.17778778076172, 37.70266342163086, -18.230426788330078, 14.419515609741211, -16.629867553710938, 5.280551433563232, -14.179633140563965, 6.927354335784912], \"yaxis\": \"y\"}, {\"hovertemplate\": \"color=miss<br>x=%{x}<br>y=%{y}<extra></extra>\", \"legendgroup\": \"miss\", \"marker\": {\"color\": \"#ab63fa\", \"symbol\": \"circle\"}, \"mode\": \"markers\", \"name\": \"miss\", \"orientation\": \"v\", \"showlegend\": true, \"textposition\": \"top center\", \"type\": \"scatter\", \"x\": [18.284503936767578, 17.60060691833496, 9.97154712677002, 19.81844711303711, 11.32382869720459, 10.88199234008789, -41.42121887207031, -37.035736083984375, 9.66911792755127, 21.833364486694336], \"xaxis\": \"x\", \"y\": [8.814282417297363, 9.570844650268555, 5.114234924316406, 8.109879493713379, 5.649282932281494, 6.717722415924072, -0.3877776563167572, -13.318896293640137, 2.962963104248047, -61.49489212036133], \"yaxis\": \"y\"}, {\"hovertemplate\": \"color=stop<br>x=%{x}<br>y=%{y}<extra></extra>\", \"legendgroup\": \"stop\", \"marker\": {\"color\": \"#FFA15A\", \"symbol\": \"circle\"}, \"mode\": \"markers\", \"name\": \"stop\", \"orientation\": \"v\", \"showlegend\": true, \"textposition\": \"top center\", \"type\": \"scatter\", \"x\": [3.1912899017333984, 4.146710395812988, 5.5666913986206055, 6.031533718109131, 0.2534930408000946, -20.521787643432617, 5.036340713500977, -0.9356814622879028, -19.94443130493164, -20.227996826171875], \"xaxis\": \"x\", \"y\": [33.70363235473633, 34.05442810058594, 32.58482360839844, -5.2908220291137695, 33.11225891113281, 5.05034065246582, 35.79158401489258, 32.797298431396484, 2.8816914558410645, 3.8327436447143555], \"yaxis\": \"y\"}, {\"hovertemplate\": \"color=found<br>x=%{x}<br>y=%{y}<extra></extra>\", \"legendgroup\": \"found\", \"marker\": {\"color\": \"#19d3f3\", \"symbol\": \"circle\"}, \"mode\": \"markers\", \"name\": \"found\", \"orientation\": \"v\", \"showlegend\": true, \"textposition\": \"top center\", \"type\": \"scatter\", \"x\": [-45.081451416015625, -37.2306022644043, -46.059715270996094, -41.58852767944336, -41.73441696166992, -42.931640625, -46.39832305908203, -48.55229568481445, -45.927757263183594, -30.115205764770508], \"xaxis\": \"x\", \"y\": [-34.65301513671875, -31.31490135192871, -36.79820251464844, -27.36962127685547, -30.45932960510254, -36.0240478515625, -37.85604476928711, -34.12973403930664, -31.618515014648438, -16.54472541809082], \"yaxis\": \"y\"}, {\"hovertemplate\": \"color=eat<br>x=%{x}<br>y=%{y}<extra></extra>\", \"legendgroup\": \"eat\", \"marker\": {\"color\": \"#FF6692\", \"symbol\": \"circle\"}, \"mode\": \"markers\", \"name\": \"eat\", \"orientation\": \"v\", \"showlegend\": true, \"textposition\": \"top center\", \"type\": \"scatter\", \"x\": [35.58289337158203, 37.301353454589844, 37.31904983520508, 34.65761184692383, 27.291301727294922, 35.53192901611328, 37.6093864440918, 32.33435821533203, 33.63831329345703, 35.669189453125], \"xaxis\": \"x\", \"y\": [29.565340042114258, 31.574193954467773, 30.209827423095703, 31.655426025390625, 28.63311004638672, 24.669677734375, 26.29398536682129, 27.21040153503418, 25.864051818847656, 26.978351593017578], \"yaxis\": \"y\"}, {\"hovertemplate\": \"color=changed<br>x=%{x}<br>y=%{y}<extra></extra>\", \"legendgroup\": \"changed\", \"marker\": {\"color\": \"#B6E880\", \"symbol\": \"circle\"}, \"mode\": \"markers\", \"name\": \"changed\", \"orientation\": \"v\", \"showlegend\": true, \"textposition\": \"top center\", \"type\": \"scatter\", \"x\": [10.358658790588379, 7.069955348968506, 6.461514472961426, 8.8834228515625, 12.04283332824707, 12.785958290100098, -35.8630256652832, 8.169578552246094, 9.236700057983398, 12.830894470214844], \"xaxis\": \"x\", \"y\": [67.12248229980469, 69.21861267089844, 68.45038604736328, 66.66567993164062, 68.15544891357422, 69.34703826904297, 13.538614273071289, 65.02754974365234, 68.31303405761719, 64.00554656982422], \"yaxis\": \"y\"}, {\"hovertemplate\": \"color=wait<br>x=%{x}<br>y=%{y}<extra></extra>\", \"legendgroup\": \"wait\", \"marker\": {\"color\": \"#FF97FF\", \"symbol\": \"circle\"}, \"mode\": \"markers\", \"name\": \"wait\", \"orientation\": \"v\", \"showlegend\": true, \"textposition\": \"top center\", \"type\": \"scatter\", \"x\": [34.55255126953125, 35.736270904541016, 35.004756927490234, 35.472412109375, 8.919651985168457, 16.705530166625977, 5.018585681915283, 34.43825912475586, 32.12843704223633, 15.304789543151855], \"xaxis\": \"x\", \"y\": [-8.122584342956543, -8.459456443786621, -6.287806034088135, -11.077055931091309, -2.497558832168579, -2.0782766342163086, -19.28464698791504, -9.585323333740234, -7.195542335510254, -1.8472459316253662], \"yaxis\": \"y\"}, {\"hovertemplate\": \"color=make<br>x=%{x}<br>y=%{y}<extra></extra>\", \"legendgroup\": \"make\", \"marker\": {\"color\": \"#FECB52\", \"symbol\": \"circle\"}, \"mode\": \"markers\", \"name\": \"make\", \"orientation\": \"v\", \"showlegend\": true, \"textposition\": \"top center\", \"type\": \"scatter\", \"x\": [-27.84737205505371, -27.43988609313965, -26.62746810913086, -29.608585357666016, -30.332508087158203, -8.247241973876953, -47.29240036010742, -46.00442123413086, -0.515293538570404, -27.727590560913086], \"xaxis\": \"x\", \"y\": [1.495077133178711, 2.195187568664551, -0.28987589478492737, 0.9350164532661438, -0.49042099714279175, 13.722511291503906, -9.38205623626709, 38.323509216308594, 6.915841102600098, -2.096280097961426], \"yaxis\": \"y\"}, {\"hovertemplate\": \"color=kept<br>x=%{x}<br>y=%{y}<extra></extra>\", \"legendgroup\": \"kept\", \"marker\": {\"color\": \"#636efa\", \"symbol\": \"circle\"}, \"mode\": \"markers\", \"name\": \"kept\", \"orientation\": \"v\", \"showlegend\": true, \"textposition\": \"top center\", \"type\": \"scatter\", \"x\": [-71.4098892211914, -73.01702117919922, -75.4413833618164, -63.662208557128906, -81.11248016357422, -74.27047729492188, -65.68402099609375, -78.22891235351562, -64.04507446289062, -69.40924835205078], \"xaxis\": \"x\", \"y\": [0.07582668960094452, 1.7243549823760986, -1.8937369585037231, -5.962510585784912, 0.1557684987783432, 5.03235387802124, -7.837884902954102, 7.558300018310547, 5.309715270996094, 13.231683731079102], \"yaxis\": \"y\"}, {\"hovertemplate\": \"color=sneezing<br>x=%{x}<br>y=%{y}<extra></extra>\", \"legendgroup\": \"sneezing\", \"marker\": {\"color\": \"#EF553B\", \"symbol\": \"circle\"}, \"mode\": \"markers\", \"name\": \"sneezing\", \"orientation\": \"v\", \"showlegend\": true, \"textposition\": \"top center\", \"type\": \"scatter\", \"x\": [34.47986602783203, 33.99150085449219, 28.05800437927246, 32.296363830566406, 33.796573638916016, 29.591554641723633, 30.0723934173584, 30.826906204223633, 32.58700180053711, 29.8057918548584], \"xaxis\": \"x\", \"y\": [3.209980010986328, 3.9282071590423584, 8.256306648254395, 11.347596168518066, 11.976973533630371, 5.923099517822266, 8.038341522216797, 9.698566436767578, 8.079484939575195, 9.57457447052002], \"yaxis\": \"y\"}, {\"hovertemplate\": \"color=grin<br>x=%{x}<br>y=%{y}<extra></extra>\", \"legendgroup\": \"grin\", \"marker\": {\"color\": \"#00cc96\", \"symbol\": \"circle\"}, \"mode\": \"markers\", \"name\": \"grin\", \"orientation\": \"v\", \"showlegend\": true, \"textposition\": \"top center\", \"type\": \"scatter\", \"x\": [69.07780456542969, 66.83274841308594, 68.55594635009766, 68.71224212646484, 69.8455581665039, 69.72672271728516, 68.00228118896484, 70.68043518066406, 65.26814270019531, 71.39094543457031], \"xaxis\": \"x\", \"y\": [11.934576034545898, 12.618499755859375, 10.121007919311523, 7.652403831481934, 7.96258544921875, 14.928135871887207, 12.80777645111084, 12.09129810333252, 12.660064697265625, 14.168493270874023], \"yaxis\": \"y\"}, {\"hovertemplate\": \"color=introduce<br>x=%{x}<br>y=%{y}<extra></extra>\", \"legendgroup\": \"introduce\", \"marker\": {\"color\": \"#ab63fa\", \"symbol\": \"circle\"}, \"mode\": \"markers\", \"name\": \"introduce\", \"orientation\": \"v\", \"showlegend\": true, \"textposition\": \"top center\", \"type\": \"scatter\", \"x\": [-22.56513786315918, -23.35042953491211, -23.566322326660156, -25.85845375061035, -22.293479919433594, -22.099666595458984, -17.785860061645508, -21.199493408203125, -7.245024681091309, -7.381759166717529], \"xaxis\": \"x\", \"y\": [58.02864074707031, 54.99008560180664, 57.78517150878906, 58.13133239746094, 60.122623443603516, 61.53278732299805, 40.75480270385742, 57.5113639831543, 28.857784271240234, 27.779144287109375], \"yaxis\": \"y\"}, {\"hovertemplate\": \"color=cook<br>x=%{x}<br>y=%{y}<extra></extra>\", \"legendgroup\": \"cook\", \"marker\": {\"color\": \"#FFA15A\", \"symbol\": \"circle\"}, \"mode\": \"markers\", \"name\": \"cook\", \"orientation\": \"v\", \"showlegend\": true, \"textposition\": \"top center\", \"type\": \"scatter\", \"x\": [35.48293685913086, 34.499141693115234, 37.2750244140625, 42.490482330322266, 39.537689208984375, 42.884944915771484, 31.170513153076172, 30.661561965942383, 38.97786331176758, 31.84552764892578], \"xaxis\": \"x\", \"y\": [18.638044357299805, 17.993745803833008, 19.372846603393555, 18.395044326782227, 18.515399932861328, 19.16450309753418, 18.785802841186523, 21.841571807861328, 20.35038948059082, 22.567964553833008], \"yaxis\": \"y\"}, {\"hovertemplate\": \"color=doubt<br>x=%{x}<br>y=%{y}<extra></extra>\", \"legendgroup\": \"doubt\", \"marker\": {\"color\": \"#19d3f3\", \"symbol\": \"circle\"}, \"mode\": \"markers\", \"name\": \"doubt\", \"orientation\": \"v\", \"showlegend\": true, \"textposition\": \"top center\", \"type\": \"scatter\", \"x\": [5.777520656585693, 2.601217269897461, 0.750525951385498, 4.70975923538208, 6.222072601318359, 7.584183692932129, 5.094784259796143, 7.403785705566406, 3.3010454177856445, 24.534320831298828], \"xaxis\": \"x\", \"y\": [-42.06367874145508, -59.343475341796875, -59.854270935058594, -41.45328140258789, -48.4602165222168, 0.9064046740531921, -14.247593879699707, -41.89229965209961, -4.917159557342529, -11.234938621520996], \"yaxis\": \"y\"}, {\"hovertemplate\": \"color=denied<br>x=%{x}<br>y=%{y}<extra></extra>\", \"legendgroup\": \"denied\", \"marker\": {\"color\": \"#FF6692\", \"symbol\": \"circle\"}, \"mode\": \"markers\", \"name\": \"denied\", \"orientation\": \"v\", \"showlegend\": true, \"textposition\": \"top center\", \"type\": \"scatter\", \"x\": [56.855533599853516, 53.375057220458984, 56.391754150390625, 56.20454406738281, 57.50619125366211, 52.8128547668457, 58.30312728881836, 53.89080047607422, 52.34734344482422, 58.09672927856445], \"xaxis\": \"x\", \"y\": [-40.34125518798828, -36.480709075927734, -42.47105026245117, -43.73392868041992, -43.4210205078125, -37.02015686035156, -41.81327819824219, -43.991371154785156, -44.29331970214844, -45.324092864990234], \"yaxis\": \"y\"}, {\"hovertemplate\": \"color=bear<br>x=%{x}<br>y=%{y}<extra></extra>\", \"legendgroup\": \"bear\", \"marker\": {\"color\": \"#B6E880\", \"symbol\": \"circle\"}, \"mode\": \"markers\", \"name\": \"bear\", \"orientation\": \"v\", \"showlegend\": true, \"textposition\": \"top center\", \"type\": \"scatter\", \"x\": [36.62248611450195, 40.75242233276367, 29.60599708557129, 38.067256927490234, 7.95210075378418, 39.26338577270508, 41.729854583740234, 35.5098876953125, 36.23890686035156, 36.942413330078125], \"xaxis\": \"x\", \"y\": [42.148807525634766, 47.97968292236328, -0.6315463781356812, 48.84327697753906, 9.390241622924805, 46.81981658935547, 47.975257873535156, 47.62161636352539, 46.43153381347656, 44.53777313232422], \"yaxis\": \"y\"}, {\"hovertemplate\": \"color=call<br>x=%{x}<br>y=%{y}<extra></extra>\", \"legendgroup\": \"call\", \"marker\": {\"color\": \"#FF97FF\", \"symbol\": \"circle\"}, \"mode\": \"markers\", \"name\": \"call\", \"orientation\": \"v\", \"showlegend\": true, \"textposition\": \"top center\", \"type\": \"scatter\", \"x\": [25.044958114624023, 24.77469825744629, 23.82512664794922, 20.911251068115234, 21.969907760620117, 22.39344024658203, 5.343946933746338, 3.9516713619232178, 23.44509506225586, 19.345767974853516], \"xaxis\": \"x\", \"y\": [1.8481650352478027, -3.0550320148468018, -1.6446722745895386, 0.7601714730262756, 3.6060774326324463, 2.2230384349823, 9.34318733215332, 9.032076835632324, 3.413198232650757, 3.365147829055786], \"yaxis\": \"y\"}, {\"hovertemplate\": \"color=lie<br>x=%{x}<br>y=%{y}<extra></extra>\", \"legendgroup\": \"lie\", \"marker\": {\"color\": \"#FECB52\", \"symbol\": \"circle\"}, \"mode\": \"markers\", \"name\": \"lie\", \"orientation\": \"v\", \"showlegend\": true, \"textposition\": \"top center\", \"type\": \"scatter\", \"x\": [-6.320561408996582, -8.900050163269043, -9.28181266784668, -3.0486092567443848, -31.362319946289062, -6.3275041580200195, -0.984042227268219, -19.606338500976562, 16.78696632385254, -4.968851566314697], \"xaxis\": \"x\", \"y\": [-5.46541690826416, -4.220235347747803, -6.023780345916748, -2.8510210514068604, 7.7727532386779785, -2.4600706100463867, -2.0313520431518555, -26.868785858154297, -5.707022190093994, -8.998806953430176], \"yaxis\": \"y\"}, {\"hovertemplate\": \"color=twist<br>x=%{x}<br>y=%{y}<extra></extra>\", \"legendgroup\": \"twist\", \"marker\": {\"color\": \"#636efa\", \"symbol\": \"circle\"}, \"mode\": \"markers\", \"name\": \"twist\", \"orientation\": \"v\", \"showlegend\": true, \"textposition\": \"top center\", \"type\": \"scatter\", \"x\": [10.750370025634766, 9.440483093261719, 6.89152717590332, 11.286441802978516, 8.295231819152832, 5.554206371307373, 13.199776649475098, 12.534581184387207, 7.663804531097412, 8.503482818603516], \"xaxis\": \"x\", \"y\": [18.868452072143555, 22.709917068481445, 18.552379608154297, 17.005197525024414, 22.224899291992188, 14.668643951416016, 16.585391998291016, 19.327587127685547, 17.05306053161621, 14.973738670349121], \"yaxis\": \"y\"}, {\"hovertemplate\": \"color=become<br>x=%{x}<br>y=%{y}<extra></extra>\", \"legendgroup\": \"become\", \"marker\": {\"color\": \"#EF553B\", \"symbol\": \"circle\"}, \"mode\": \"markers\", \"name\": \"become\", \"orientation\": \"v\", \"showlegend\": true, \"textposition\": \"top center\", \"type\": \"scatter\", \"x\": [-23.100265502929688, -25.167438507080078, -23.553808212280273, -22.202571868896484, -14.414855003356934, -21.973472595214844, -17.27461051940918, -16.528778076171875, -14.39081859588623, -15.55771541595459], \"xaxis\": \"x\", \"y\": [12.997852325439453, 12.082770347595215, 10.299175262451172, 14.8092041015625, 12.95058536529541, 16.376306533813477, 14.052326202392578, 9.059609413146973, -5.144871711730957, 8.94612979888916], \"yaxis\": \"y\"}, {\"hovertemplate\": \"color=play<br>x=%{x}<br>y=%{y}<extra></extra>\", \"legendgroup\": \"play\", \"marker\": {\"color\": \"#00cc96\", \"symbol\": \"circle\"}, \"mode\": \"markers\", \"name\": \"play\", \"orientation\": \"v\", \"showlegend\": true, \"textposition\": \"top center\", \"type\": \"scatter\", \"x\": [-10.642993927001953, -8.179616928100586, -9.900461196899414, -13.713052749633789, -3.878026008605957, -11.82119369506836, -14.528602600097656, -1.0964009761810303, 6.187159061431885, -3.3202812671661377], \"xaxis\": \"x\", \"y\": [3.330958843231201, 2.5163679122924805, 2.824641466140747, 0.20417091250419617, 4.210397720336914, 4.389878749847412, 0.13760130107402802, 3.837519884109497, 4.378925323486328, 1.6212050914764404], \"yaxis\": \"y\"}, {\"hovertemplate\": \"color=look<br>x=%{x}<br>y=%{y}<extra></extra>\", \"legendgroup\": \"look\", \"marker\": {\"color\": \"#ab63fa\", \"symbol\": \"circle\"}, \"mode\": \"markers\", \"name\": \"look\", \"orientation\": \"v\", \"showlegend\": true, \"textposition\": \"top center\", \"type\": \"scatter\", \"x\": [-19.942256927490234, -19.533994674682617, -19.677799224853516, -21.348369598388672, -7.571719169616699, -21.66238784790039, -17.134735107421875, -15.11141586303711, 9.973836898803711, -16.711212158203125], \"xaxis\": \"x\", \"y\": [-41.8735237121582, -39.12660598754883, -36.33863830566406, -43.85423278808594, -40.54652404785156, -37.03140640258789, -41.376285552978516, -39.58461380004883, -32.37118148803711, -37.46715545654297], \"yaxis\": \"y\"}, {\"hovertemplate\": \"color=bite<br>x=%{x}<br>y=%{y}<extra></extra>\", \"legendgroup\": \"bite\", \"marker\": {\"color\": \"#FFA15A\", \"symbol\": \"circle\"}, \"mode\": \"markers\", \"name\": \"bite\", \"orientation\": \"v\", \"showlegend\": true, \"textposition\": \"top center\", \"type\": \"scatter\", \"x\": [18.334806442260742, 17.342878341674805, 12.272141456604004, 13.447393417358398, 19.40557289123535, 15.900638580322266, 25.878019332885742, 26.761394500732422, 24.725589752197266, 13.800912857055664], \"xaxis\": \"x\", \"y\": [22.00921058654785, 23.108591079711914, 11.356544494628906, 13.112639427185059, 23.912511825561523, 23.742450714111328, 29.880443572998047, 27.516536712646484, 28.11251449584961, 10.346504211425781], \"yaxis\": \"y\"}, {\"hovertemplate\": \"color=let<br>x=%{x}<br>y=%{y}<extra></extra>\", \"legendgroup\": \"let\", \"marker\": {\"color\": \"#19d3f3\", \"symbol\": \"circle\"}, \"mode\": \"markers\", \"name\": \"let\", \"orientation\": \"v\", \"showlegend\": true, \"textposition\": \"top center\", \"type\": \"scatter\", \"x\": [-9.660990715026855, -6.786018371582031, -5.859304904937744, -3.156418800354004, -33.32265853881836, 14.126566886901855, -27.93868637084961, 1.723758578300476, -6.323195934295654, -11.340616226196289], \"xaxis\": \"x\", \"y\": [-22.58225440979004, -21.467578887939453, -29.468910217285156, -32.12152099609375, 34.833614349365234, -6.535866737365723, 41.20985794067383, -33.79670715332031, -25.53568458557129, -22.227663040161133], \"yaxis\": \"y\"}, {\"hovertemplate\": \"color=break<br>x=%{x}<br>y=%{y}<extra></extra>\", \"legendgroup\": \"break\", \"marker\": {\"color\": \"#FF6692\", \"symbol\": \"circle\"}, \"mode\": \"markers\", \"name\": \"break\", \"orientation\": \"v\", \"showlegend\": true, \"textposition\": \"top center\", \"type\": \"scatter\", \"x\": [16.099414825439453, 18.9725341796875, 17.78807830810547, 17.726377487182617, 22.148273468017578, 20.915842056274414, 10.708916664123535, 20.553251266479492, -0.26735028624534607, 9.605823516845703], \"xaxis\": \"x\", \"y\": [47.130157470703125, 50.35536193847656, 50.20110321044922, 51.48970413208008, 53.034080505371094, 52.06803894042969, 10.324660301208496, 48.03329849243164, 9.607564926147461, 27.31601333618164], \"yaxis\": \"y\"}, {\"hovertemplate\": \"color=ashamed<br>x=%{x}<br>y=%{y}<extra></extra>\", \"legendgroup\": \"ashamed\", \"marker\": {\"color\": \"#B6E880\", \"symbol\": \"circle\"}, \"mode\": \"markers\", \"name\": \"ashamed\", \"orientation\": \"v\", \"showlegend\": true, \"textposition\": \"top center\", \"type\": \"scatter\", \"x\": [55.217708587646484, 50.91552734375, 55.38056182861328, 57.24808883666992, 55.87343215942383, 48.231178283691406, 58.15047836303711, 49.99175262451172, 46.53965759277344, 58.49315643310547], \"xaxis\": \"x\", \"y\": [-12.342442512512207, -10.108098983764648, -10.164175033569336, -15.308364868164062, -8.845152854919434, -14.061254501342773, -12.783867835998535, -8.86320686340332, -14.846695899963379, -15.680306434631348], \"yaxis\": \"y\"}, {\"hovertemplate\": \"color=lived<br>x=%{x}<br>y=%{y}<extra></extra>\", \"legendgroup\": \"lived\", \"marker\": {\"color\": \"#FF97FF\", \"symbol\": \"circle\"}, \"mode\": \"markers\", \"name\": \"lived\", \"orientation\": \"v\", \"showlegend\": true, \"textposition\": \"top center\", \"type\": \"scatter\", \"x\": [3.205754041671753, -0.6654842495918274, 5.069587707519531, 3.974815607070923, 0.8906194567680359, 1.5698169469833374, 6.140676498413086, -0.07209649682044983, -63.662208557128906, 0.6901179552078247], \"xaxis\": \"x\", \"y\": [47.74763870239258, 42.98331069946289, 48.4010124206543, 44.89406204223633, 47.7066764831543, 50.021766662597656, 44.16559600830078, 49.27187728881836, -5.962510585784912, 12.176178932189941], \"yaxis\": \"y\"}, {\"hovertemplate\": \"color=pretty<br>x=%{x}<br>y=%{y}<extra></extra>\", \"legendgroup\": \"pretty\", \"marker\": {\"color\": \"#FECB52\", \"symbol\": \"circle\"}, \"mode\": \"markers\", \"name\": \"pretty\", \"orientation\": \"v\", \"showlegend\": true, \"textposition\": \"top center\", \"type\": \"scatter\", \"x\": [-21.01572608947754, -25.15039825439453, -22.64619255065918, -25.236289978027344, -27.175363540649414, -20.255970001220703, -25.22759246826172, -18.79250144958496, -25.12639617919922, -25.12236785888672], \"xaxis\": \"x\", \"y\": [-72.54254913330078, -68.62821960449219, -71.29533386230469, -67.38420867919922, -67.86778259277344, -73.2793197631836, -71.66771697998047, -65.03478240966797, -70.57231903076172, -65.1599349975586], \"yaxis\": \"y\"}, {\"hovertemplate\": \"color=believe<br>x=%{x}<br>y=%{y}<extra></extra>\", \"legendgroup\": \"believe\", \"marker\": {\"color\": \"#636efa\", \"symbol\": \"circle\"}, \"mode\": \"markers\", \"name\": \"believe\", \"orientation\": \"v\", \"showlegend\": true, \"textposition\": \"top center\", \"type\": \"scatter\", \"x\": [9.24163818359375, -6.5706257820129395, 4.428563594818115, 11.549223899841309, 1.5781155824661255, 3.681551218032837, -3.5959911346435547, -3.680044174194336, 9.324071884155273, 3.438889980316162], \"xaxis\": \"x\", \"y\": [-70.09078216552734, -58.20641326904297, -72.42708587646484, -63.240692138671875, -64.20327758789062, -63.33974838256836, -67.8052749633789, -66.94013977050781, -62.79976272583008, -52.1718864440918], \"yaxis\": \"y\"}, {\"hovertemplate\": \"color=stand<br>x=%{x}<br>y=%{y}<extra></extra>\", \"legendgroup\": \"stand\", \"marker\": {\"color\": \"#EF553B\", \"symbol\": \"circle\"}, \"mode\": \"markers\", \"name\": \"stand\", \"orientation\": \"v\", \"showlegend\": true, \"textposition\": \"top center\", \"type\": \"scatter\", \"x\": [-12.675882339477539, -11.38845157623291, -13.596633911132812, -19.606338500976562, 2.686107873916626, 11.212989807128906, -7.050108909606934, -9.664067268371582, 3.7216928005218506, -13.354496002197266], \"xaxis\": \"x\", \"y\": [-11.531447410583496, -12.358145713806152, -13.189181327819824, -26.868785858154297, 2.813312292098999, 0.18827295303344727, -4.696249485015869, -12.77164077758789, 4.200489044189453, -14.906450271606445], \"yaxis\": \"y\"}, {\"hovertemplate\": \"color=proceed<br>x=%{x}<br>y=%{y}<extra></extra>\", \"legendgroup\": \"proceed\", \"marker\": {\"color\": \"#00cc96\", \"symbol\": \"circle\"}, \"mode\": \"markers\", \"name\": \"proceed\", \"orientation\": \"v\", \"showlegend\": true, \"textposition\": \"top center\", \"type\": \"scatter\", \"x\": [-3.024653911590576, -3.74771785736084, -6.666226863861084, -5.226927757263184, -9.47136402130127, -4.7457051277160645, -2.6215720176696777, -5.296600818634033, -9.361398696899414, 9.788824081420898], \"xaxis\": \"x\", \"y\": [18.88870620727539, 16.236404418945312, 21.24876594543457, 17.394207000732422, 52.391212463378906, 26.039016723632812, 21.050153732299805, 5.561722755432129, 53.18033218383789, -30.071435928344727], \"yaxis\": \"y\"}, {\"hovertemplate\": \"color=give<br>x=%{x}<br>y=%{y}<extra></extra>\", \"legendgroup\": \"give\", \"marker\": {\"color\": \"#ab63fa\", \"symbol\": \"circle\"}, \"mode\": \"markers\", \"name\": \"give\", \"orientation\": \"v\", \"showlegend\": true, \"textposition\": \"top center\", \"type\": \"scatter\", \"x\": [-47.954097747802734, -46.85343933105469, -46.88029098510742, -44.016441345214844, -43.420589447021484, -49.512203216552734, -49.19804763793945, -56.419498443603516, -46.08728790283203, -5.489842414855957], \"xaxis\": \"x\", \"y\": [38.131710052490234, 36.140323638916016, 42.01169204711914, 36.60026168823242, 40.022804260253906, 37.317626953125, 40.375282287597656, 27.400774002075195, -9.832701683044434, 12.700570106506348], \"yaxis\": \"y\"}, {\"hovertemplate\": \"color=dinning<br>x=%{x}<br>y=%{y}<extra></extra>\", \"legendgroup\": \"dinning\", \"marker\": {\"color\": \"#FFA15A\", \"symbol\": \"circle\"}, \"mode\": \"markers\", \"name\": \"dinning\", \"orientation\": \"v\", \"showlegend\": true, \"textposition\": \"top center\", \"type\": \"scatter\", \"x\": [46.06236267089844, 48.27678298950195, 43.53618621826172, 41.19594192504883, 43.52372741699219, 46.93365478515625, 44.826011657714844, 45.31646728515625, 47.84441375732422, 43.1966552734375], \"xaxis\": \"x\", \"y\": [5.963571548461914, 11.216217041015625, 6.874521732330322, 8.644458770751953, 8.83610725402832, 10.418767929077148, 4.282711505889893, 8.923771858215332, 5.488333702087402, 10.913454055786133], \"yaxis\": \"y\"}, {\"hovertemplate\": \"color=have<br>x=%{x}<br>y=%{y}<extra></extra>\", \"legendgroup\": \"have\", \"marker\": {\"color\": \"#19d3f3\", \"symbol\": \"circle\"}, \"mode\": \"markers\", \"name\": \"have\", \"orientation\": \"v\", \"showlegend\": true, \"textposition\": \"top center\", \"type\": \"scatter\", \"x\": [-23.650859832763672, -26.2888126373291, -24.381393432617188, -21.931583404541016, -24.546594619750977, -24.394847869873047, -25.401634216308594, 0.6126232147216797, -22.016571044921875, -20.911170959472656], \"xaxis\": \"x\", \"y\": [-17.203861236572266, -14.098979949951172, -19.22004508972168, -7.036898612976074, -9.417109489440918, -12.399694442749023, -20.397127151489258, -11.096175193786621, -16.162784576416016, -18.894561767578125], \"yaxis\": \"y\"}, {\"hovertemplate\": \"color=turn<br>x=%{x}<br>y=%{y}<extra></extra>\", \"legendgroup\": \"turn\", \"marker\": {\"color\": \"#FF6692\", \"symbol\": \"circle\"}, \"mode\": \"markers\", \"name\": \"turn\", \"orientation\": \"v\", \"showlegend\": true, \"textposition\": \"top center\", \"type\": \"scatter\", \"x\": [-33.631832122802734, -34.66632843017578, -35.730995178222656, -31.721750259399414, -55.090049743652344, -29.958179473876953, -40.20810317993164, -55.77901840209961, -37.21495056152344, -41.63252258300781], \"xaxis\": \"x\", \"y\": [17.23139762878418, 17.003618240356445, 18.38410758972168, 17.945615768432617, 3.6185925006866455, 18.715499877929688, 24.99755859375, 1.729560375213623, 1.0175114870071411, 24.402164459228516], \"yaxis\": \"y\"}],                        {\"legend\": {\"title\": {\"text\": \"color\"}, \"tracegroupgap\": 0}, \"margin\": {\"t\": 60}, \"template\": {\"data\": {\"bar\": [{\"error_x\": {\"color\": \"#2a3f5f\"}, \"error_y\": {\"color\": \"#2a3f5f\"}, \"marker\": {\"line\": {\"color\": \"white\", \"width\": 0.5}}, \"type\": \"bar\"}], \"barpolar\": [{\"marker\": {\"line\": {\"color\": \"white\", \"width\": 0.5}}, \"type\": \"barpolar\"}], \"carpet\": [{\"aaxis\": {\"endlinecolor\": \"#2a3f5f\", \"gridcolor\": \"#C8D4E3\", \"linecolor\": \"#C8D4E3\", \"minorgridcolor\": \"#C8D4E3\", \"startlinecolor\": \"#2a3f5f\"}, \"baxis\": {\"endlinecolor\": \"#2a3f5f\", \"gridcolor\": \"#C8D4E3\", \"linecolor\": \"#C8D4E3\", \"minorgridcolor\": \"#C8D4E3\", \"startlinecolor\": \"#2a3f5f\"}, \"type\": \"carpet\"}], \"choropleth\": [{\"colorbar\": {\"outlinewidth\": 0, \"ticks\": \"\"}, \"type\": \"choropleth\"}], \"contour\": [{\"colorbar\": {\"outlinewidth\": 0, \"ticks\": \"\"}, \"colorscale\": [[0.0, \"#0d0887\"], [0.1111111111111111, \"#46039f\"], [0.2222222222222222, \"#7201a8\"], [0.3333333333333333, \"#9c179e\"], [0.4444444444444444, \"#bd3786\"], [0.5555555555555556, \"#d8576b\"], [0.6666666666666666, \"#ed7953\"], [0.7777777777777778, \"#fb9f3a\"], [0.8888888888888888, \"#fdca26\"], [1.0, \"#f0f921\"]], \"type\": \"contour\"}], \"contourcarpet\": [{\"colorbar\": {\"outlinewidth\": 0, \"ticks\": \"\"}, \"type\": \"contourcarpet\"}], \"heatmap\": [{\"colorbar\": {\"outlinewidth\": 0, \"ticks\": \"\"}, \"colorscale\": [[0.0, \"#0d0887\"], [0.1111111111111111, \"#46039f\"], [0.2222222222222222, \"#7201a8\"], [0.3333333333333333, \"#9c179e\"], [0.4444444444444444, \"#bd3786\"], [0.5555555555555556, \"#d8576b\"], [0.6666666666666666, \"#ed7953\"], [0.7777777777777778, \"#fb9f3a\"], [0.8888888888888888, \"#fdca26\"], [1.0, \"#f0f921\"]], \"type\": \"heatmap\"}], \"heatmapgl\": [{\"colorbar\": {\"outlinewidth\": 0, \"ticks\": \"\"}, \"colorscale\": [[0.0, \"#0d0887\"], [0.1111111111111111, \"#46039f\"], [0.2222222222222222, \"#7201a8\"], [0.3333333333333333, \"#9c179e\"], [0.4444444444444444, \"#bd3786\"], [0.5555555555555556, \"#d8576b\"], [0.6666666666666666, \"#ed7953\"], [0.7777777777777778, \"#fb9f3a\"], [0.8888888888888888, \"#fdca26\"], [1.0, \"#f0f921\"]], \"type\": \"heatmapgl\"}], \"histogram\": [{\"marker\": {\"colorbar\": {\"outlinewidth\": 0, \"ticks\": \"\"}}, \"type\": \"histogram\"}], \"histogram2d\": [{\"colorbar\": {\"outlinewidth\": 0, \"ticks\": \"\"}, \"colorscale\": [[0.0, \"#0d0887\"], [0.1111111111111111, \"#46039f\"], [0.2222222222222222, \"#7201a8\"], [0.3333333333333333, \"#9c179e\"], [0.4444444444444444, \"#bd3786\"], [0.5555555555555556, \"#d8576b\"], [0.6666666666666666, \"#ed7953\"], [0.7777777777777778, \"#fb9f3a\"], [0.8888888888888888, \"#fdca26\"], [1.0, \"#f0f921\"]], \"type\": \"histogram2d\"}], \"histogram2dcontour\": [{\"colorbar\": {\"outlinewidth\": 0, \"ticks\": \"\"}, \"colorscale\": [[0.0, \"#0d0887\"], [0.1111111111111111, \"#46039f\"], [0.2222222222222222, \"#7201a8\"], [0.3333333333333333, \"#9c179e\"], [0.4444444444444444, \"#bd3786\"], [0.5555555555555556, \"#d8576b\"], [0.6666666666666666, \"#ed7953\"], [0.7777777777777778, \"#fb9f3a\"], [0.8888888888888888, \"#fdca26\"], [1.0, \"#f0f921\"]], \"type\": \"histogram2dcontour\"}], \"mesh3d\": [{\"colorbar\": {\"outlinewidth\": 0, \"ticks\": \"\"}, \"type\": \"mesh3d\"}], \"parcoords\": [{\"line\": {\"colorbar\": {\"outlinewidth\": 0, \"ticks\": \"\"}}, \"type\": \"parcoords\"}], \"pie\": [{\"automargin\": true, \"type\": \"pie\"}], \"scatter\": [{\"marker\": {\"colorbar\": {\"outlinewidth\": 0, \"ticks\": \"\"}}, \"type\": \"scatter\"}], \"scatter3d\": [{\"line\": {\"colorbar\": {\"outlinewidth\": 0, \"ticks\": \"\"}}, \"marker\": {\"colorbar\": {\"outlinewidth\": 0, \"ticks\": \"\"}}, \"type\": \"scatter3d\"}], \"scattercarpet\": [{\"marker\": {\"colorbar\": {\"outlinewidth\": 0, \"ticks\": \"\"}}, \"type\": \"scattercarpet\"}], \"scattergeo\": [{\"marker\": {\"colorbar\": {\"outlinewidth\": 0, \"ticks\": \"\"}}, \"type\": \"scattergeo\"}], \"scattergl\": [{\"marker\": {\"colorbar\": {\"outlinewidth\": 0, \"ticks\": \"\"}}, \"type\": \"scattergl\"}], \"scattermapbox\": [{\"marker\": {\"colorbar\": {\"outlinewidth\": 0, \"ticks\": \"\"}}, \"type\": \"scattermapbox\"}], \"scatterpolar\": [{\"marker\": {\"colorbar\": {\"outlinewidth\": 0, \"ticks\": \"\"}}, \"type\": \"scatterpolar\"}], \"scatterpolargl\": [{\"marker\": {\"colorbar\": {\"outlinewidth\": 0, \"ticks\": \"\"}}, \"type\": \"scatterpolargl\"}], \"scatterternary\": [{\"marker\": {\"colorbar\": {\"outlinewidth\": 0, \"ticks\": \"\"}}, \"type\": \"scatterternary\"}], \"surface\": [{\"colorbar\": {\"outlinewidth\": 0, \"ticks\": \"\"}, \"colorscale\": [[0.0, \"#0d0887\"], [0.1111111111111111, \"#46039f\"], [0.2222222222222222, \"#7201a8\"], [0.3333333333333333, \"#9c179e\"], [0.4444444444444444, \"#bd3786\"], [0.5555555555555556, \"#d8576b\"], [0.6666666666666666, \"#ed7953\"], [0.7777777777777778, \"#fb9f3a\"], [0.8888888888888888, \"#fdca26\"], [1.0, \"#f0f921\"]], \"type\": \"surface\"}], \"table\": [{\"cells\": {\"fill\": {\"color\": \"#EBF0F8\"}, \"line\": {\"color\": \"white\"}}, \"header\": {\"fill\": {\"color\": \"#C8D4E3\"}, \"line\": {\"color\": \"white\"}}, \"type\": \"table\"}]}, \"layout\": {\"annotationdefaults\": {\"arrowcolor\": \"#2a3f5f\", \"arrowhead\": 0, \"arrowwidth\": 1}, \"coloraxis\": {\"colorbar\": {\"outlinewidth\": 0, \"ticks\": \"\"}}, \"colorscale\": {\"diverging\": [[0, \"#8e0152\"], [0.1, \"#c51b7d\"], [0.2, \"#de77ae\"], [0.3, \"#f1b6da\"], [0.4, \"#fde0ef\"], [0.5, \"#f7f7f7\"], [0.6, \"#e6f5d0\"], [0.7, \"#b8e186\"], [0.8, \"#7fbc41\"], [0.9, \"#4d9221\"], [1, \"#276419\"]], \"sequential\": [[0.0, \"#0d0887\"], [0.1111111111111111, \"#46039f\"], [0.2222222222222222, \"#7201a8\"], [0.3333333333333333, \"#9c179e\"], [0.4444444444444444, \"#bd3786\"], [0.5555555555555556, \"#d8576b\"], [0.6666666666666666, \"#ed7953\"], [0.7777777777777778, \"#fb9f3a\"], [0.8888888888888888, \"#fdca26\"], [1.0, \"#f0f921\"]], \"sequentialminus\": [[0.0, \"#0d0887\"], [0.1111111111111111, \"#46039f\"], [0.2222222222222222, \"#7201a8\"], [0.3333333333333333, \"#9c179e\"], [0.4444444444444444, \"#bd3786\"], [0.5555555555555556, \"#d8576b\"], [0.6666666666666666, \"#ed7953\"], [0.7777777777777778, \"#fb9f3a\"], [0.8888888888888888, \"#fdca26\"], [1.0, \"#f0f921\"]]}, \"colorway\": [\"#636efa\", \"#EF553B\", \"#00cc96\", \"#ab63fa\", \"#FFA15A\", \"#19d3f3\", \"#FF6692\", \"#B6E880\", \"#FF97FF\", \"#FECB52\"], \"font\": {\"color\": \"#2a3f5f\"}, \"geo\": {\"bgcolor\": \"white\", \"lakecolor\": \"white\", \"landcolor\": \"white\", \"showlakes\": true, \"showland\": true, \"subunitcolor\": \"#C8D4E3\"}, \"hoverlabel\": {\"align\": \"left\"}, \"hovermode\": \"closest\", \"mapbox\": {\"style\": \"light\"}, \"paper_bgcolor\": \"white\", \"plot_bgcolor\": \"white\", \"polar\": {\"angularaxis\": {\"gridcolor\": \"#EBF0F8\", \"linecolor\": \"#EBF0F8\", \"ticks\": \"\"}, \"bgcolor\": \"white\", \"radialaxis\": {\"gridcolor\": \"#EBF0F8\", \"linecolor\": \"#EBF0F8\", \"ticks\": \"\"}}, \"scene\": {\"xaxis\": {\"backgroundcolor\": \"white\", \"gridcolor\": \"#DFE8F3\", \"gridwidth\": 2, \"linecolor\": \"#EBF0F8\", \"showbackground\": true, \"ticks\": \"\", \"zerolinecolor\": \"#EBF0F8\"}, \"yaxis\": {\"backgroundcolor\": \"white\", \"gridcolor\": \"#DFE8F3\", \"gridwidth\": 2, \"linecolor\": \"#EBF0F8\", \"showbackground\": true, \"ticks\": \"\", \"zerolinecolor\": \"#EBF0F8\"}, \"zaxis\": {\"backgroundcolor\": \"white\", \"gridcolor\": \"#DFE8F3\", \"gridwidth\": 2, \"linecolor\": \"#EBF0F8\", \"showbackground\": true, \"ticks\": \"\", \"zerolinecolor\": \"#EBF0F8\"}}, \"shapedefaults\": {\"line\": {\"color\": \"#2a3f5f\"}}, \"ternary\": {\"aaxis\": {\"gridcolor\": \"#DFE8F3\", \"linecolor\": \"#A2B1C6\", \"ticks\": \"\"}, \"baxis\": {\"gridcolor\": \"#DFE8F3\", \"linecolor\": \"#A2B1C6\", \"ticks\": \"\"}, \"bgcolor\": \"white\", \"caxis\": {\"gridcolor\": \"#DFE8F3\", \"linecolor\": \"#A2B1C6\", \"ticks\": \"\"}}, \"title\": {\"x\": 0.05}, \"xaxis\": {\"automargin\": true, \"gridcolor\": \"#EBF0F8\", \"linecolor\": \"#EBF0F8\", \"ticks\": \"\", \"title\": {\"standoff\": 15}, \"zerolinecolor\": \"#EBF0F8\", \"zerolinewidth\": 2}, \"yaxis\": {\"automargin\": true, \"gridcolor\": \"#EBF0F8\", \"linecolor\": \"#EBF0F8\", \"ticks\": \"\", \"title\": {\"standoff\": 15}, \"zerolinecolor\": \"#EBF0F8\", \"zerolinewidth\": 2}}}, \"xaxis\": {\"anchor\": \"y\", \"domain\": [0.0, 1.0], \"title\": {\"text\": \"x\"}}, \"yaxis\": {\"anchor\": \"x\", \"domain\": [0.0, 1.0], \"title\": {\"text\": \"y\"}}},                        {\"responsive\": true}                    ).then(function(){\n",
       "                            \n",
       "var gd = document.getElementById('5f7038c4-8da0-4015-a696-7f07ae7d025c');\n",
       "var x = new MutationObserver(function (mutations, observer) {{\n",
       "        var display = window.getComputedStyle(gd).display;\n",
       "        if (!display || display === 'none') {{\n",
       "            console.log([gd, 'removed!']);\n",
       "            Plotly.purge(gd);\n",
       "            observer.disconnect();\n",
       "        }}\n",
       "}});\n",
       "\n",
       "// Listen for the removal of the full notebook cells\n",
       "var notebookContainer = gd.closest('#notebook-container');\n",
       "if (notebookContainer) {{\n",
       "    x.observe(notebookContainer, {childList: true});\n",
       "}}\n",
       "\n",
       "// Listen for the clearing of the current output cell\n",
       "var outputEl = gd.closest('.output');\n",
       "if (outputEl) {{\n",
       "    x.observe(outputEl, {childList: true});\n",
       "}}\n",
       "\n",
       "                        })                };                });            </script>        </div>"
      ]
     },
     "metadata": {},
     "output_type": "display_data"
    }
   ],
   "source": [
    "# Visualization\n",
    "fig = express.scatter(x=embeddings[:, 0], y=embeddings[:, 1],\n",
    "                      color=clusters, template='plotly_white')\n",
    "fig.update_traces(textposition='top center')\n",
    "fig.show()"
   ]
  },
  {
   "cell_type": "markdown",
   "metadata": {},
   "source": [
    "5.4 Write conclusions.\n",
    "From this scatter-plot I can guess, that it belongs to text aimed at a wide audience, children mostly, because of high similarity between clusters. Author used general words for concept-description and many synonims to not repeat himself while writing quite similar things.\n",
    "Due to the lack of specialisation there were not enough word differentiality in text to fully complete the task - only 67 verbs instead of 100 required."
   ]
  }
 ],
 "metadata": {
  "kernelspec": {
   "display_name": "Python 3",
   "language": "python",
   "name": "python3"
  },
  "language_info": {
   "codemirror_mode": {
    "name": "ipython",
    "version": 3
   },
   "file_extension": ".py",
   "mimetype": "text/x-python",
   "name": "python",
   "nbconvert_exporter": "python",
   "pygments_lexer": "ipython3",
   "version": "3.7.1"
  }
 },
 "nbformat": 4,
 "nbformat_minor": 4
}
